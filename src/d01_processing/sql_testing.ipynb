{
 "cells": [
  {
   "cell_type": "code",
   "id": "initial_id",
   "metadata": {
    "collapsed": true,
    "ExecuteTime": {
     "end_time": "2024-11-12T17:15:12.151571Z",
     "start_time": "2024-11-12T17:15:11.480129Z"
    }
   },
   "source": [
    "import geopandas as gpd\n",
    "from src.d00_utils.postgis_helpers import get_postgis_engine\n",
    "engine = get_postgis_engine(\"nfhl_tr32\")"
   ],
   "outputs": [],
   "execution_count": 1
  },
  {
   "metadata": {
    "ExecuteTime": {
     "end_time": "2024-11-12T17:16:32.263540Z",
     "start_time": "2024-11-12T17:16:31.541622Z"
    }
   },
   "cell_type": "code",
   "source": [
    "query_test = \"SELECT * FROM S_FLD_HAZ_AR_19 limit 5\"\n",
    "gdf = gpd.GeoDataFrame.from_postgis(query_test, engine, geom_col='geom')"
   ],
   "id": "3de54e4b14627e28",
   "outputs": [
    {
     "ename": "ProgrammingError",
     "evalue": "(psycopg2.errors.UndefinedTable) relation \"s_fld_haz_ar_19\" does not exist\nLINE 1: SELECT * FROM S_FLD_HAZ_AR_19 limit 5\n                      ^\n\n[SQL: SELECT * FROM S_FLD_HAZ_AR_19 limit 5]\n(Background on this error at: https://sqlalche.me/e/20/f405)",
     "output_type": "error",
     "traceback": [
      "\u001B[1;31m---------------------------------------------------------------------------\u001B[0m",
      "\u001B[1;31mUndefinedTable\u001B[0m                            Traceback (most recent call last)",
      "File \u001B[1;32mC:\\ProgramData\\miniforge3\\envs\\gabelsci\\Lib\\site-packages\\sqlalchemy\\engine\\base.py:1967\u001B[0m, in \u001B[0;36mConnection._exec_single_context\u001B[1;34m(self, dialect, context, statement, parameters)\u001B[0m\n\u001B[0;32m   1966\u001B[0m     \u001B[38;5;28;01mif\u001B[39;00m \u001B[38;5;129;01mnot\u001B[39;00m evt_handled:\n\u001B[1;32m-> 1967\u001B[0m         \u001B[38;5;28;43mself\u001B[39;49m\u001B[38;5;241;43m.\u001B[39;49m\u001B[43mdialect\u001B[49m\u001B[38;5;241;43m.\u001B[39;49m\u001B[43mdo_execute\u001B[49m\u001B[43m(\u001B[49m\n\u001B[0;32m   1968\u001B[0m \u001B[43m            \u001B[49m\u001B[43mcursor\u001B[49m\u001B[43m,\u001B[49m\u001B[43m \u001B[49m\u001B[43mstr_statement\u001B[49m\u001B[43m,\u001B[49m\u001B[43m \u001B[49m\u001B[43meffective_parameters\u001B[49m\u001B[43m,\u001B[49m\u001B[43m \u001B[49m\u001B[43mcontext\u001B[49m\n\u001B[0;32m   1969\u001B[0m \u001B[43m        \u001B[49m\u001B[43m)\u001B[49m\n\u001B[0;32m   1971\u001B[0m \u001B[38;5;28;01mif\u001B[39;00m \u001B[38;5;28mself\u001B[39m\u001B[38;5;241m.\u001B[39m_has_events \u001B[38;5;129;01mor\u001B[39;00m \u001B[38;5;28mself\u001B[39m\u001B[38;5;241m.\u001B[39mengine\u001B[38;5;241m.\u001B[39m_has_events:\n",
      "File \u001B[1;32mC:\\ProgramData\\miniforge3\\envs\\gabelsci\\Lib\\site-packages\\sqlalchemy\\engine\\default.py:941\u001B[0m, in \u001B[0;36mDefaultDialect.do_execute\u001B[1;34m(self, cursor, statement, parameters, context)\u001B[0m\n\u001B[0;32m    940\u001B[0m \u001B[38;5;28;01mdef\u001B[39;00m \u001B[38;5;21mdo_execute\u001B[39m(\u001B[38;5;28mself\u001B[39m, cursor, statement, parameters, context\u001B[38;5;241m=\u001B[39m\u001B[38;5;28;01mNone\u001B[39;00m):\n\u001B[1;32m--> 941\u001B[0m     \u001B[43mcursor\u001B[49m\u001B[38;5;241;43m.\u001B[39;49m\u001B[43mexecute\u001B[49m\u001B[43m(\u001B[49m\u001B[43mstatement\u001B[49m\u001B[43m,\u001B[49m\u001B[43m \u001B[49m\u001B[43mparameters\u001B[49m\u001B[43m)\u001B[49m\n",
      "\u001B[1;31mUndefinedTable\u001B[0m: relation \"s_fld_haz_ar_19\" does not exist\nLINE 1: SELECT * FROM S_FLD_HAZ_AR_19 limit 5\n                      ^\n",
      "\nThe above exception was the direct cause of the following exception:\n",
      "\u001B[1;31mProgrammingError\u001B[0m                          Traceback (most recent call last)",
      "Cell \u001B[1;32mIn[2], line 2\u001B[0m\n\u001B[0;32m      1\u001B[0m query_test \u001B[38;5;241m=\u001B[39m \u001B[38;5;124m\"\u001B[39m\u001B[38;5;124mSELECT * FROM S_FLD_HAZ_AR_19 limit 5\u001B[39m\u001B[38;5;124m\"\u001B[39m\n\u001B[1;32m----> 2\u001B[0m gdf \u001B[38;5;241m=\u001B[39m \u001B[43mgpd\u001B[49m\u001B[38;5;241;43m.\u001B[39;49m\u001B[43mGeoDataFrame\u001B[49m\u001B[38;5;241;43m.\u001B[39;49m\u001B[43mfrom_postgis\u001B[49m\u001B[43m(\u001B[49m\u001B[43mquery_test\u001B[49m\u001B[43m,\u001B[49m\u001B[43m \u001B[49m\u001B[43mengine\u001B[49m\u001B[43m,\u001B[49m\u001B[43m \u001B[49m\u001B[43mgeom_col\u001B[49m\u001B[38;5;241;43m=\u001B[39;49m\u001B[38;5;124;43m'\u001B[39;49m\u001B[38;5;124;43mgeom\u001B[39;49m\u001B[38;5;124;43m'\u001B[39;49m\u001B[43m)\u001B[49m\n",
      "File \u001B[1;32mC:\\ProgramData\\miniforge3\\envs\\gabelsci\\Lib\\site-packages\\geopandas\\geodataframe.py:817\u001B[0m, in \u001B[0;36mGeoDataFrame.from_postgis\u001B[1;34m(cls, sql, con, geom_col, crs, index_col, coerce_float, parse_dates, params, chunksize)\u001B[0m\n\u001B[0;32m    747\u001B[0m \u001B[38;5;129m@classmethod\u001B[39m\n\u001B[0;32m    748\u001B[0m \u001B[38;5;28;01mdef\u001B[39;00m \u001B[38;5;21mfrom_postgis\u001B[39m(\n\u001B[0;32m    749\u001B[0m     \u001B[38;5;28mcls\u001B[39m,\n\u001B[1;32m   (...)\u001B[0m\n\u001B[0;32m    758\u001B[0m     chunksize\u001B[38;5;241m=\u001B[39m\u001B[38;5;28;01mNone\u001B[39;00m,\n\u001B[0;32m    759\u001B[0m ):\n\u001B[0;32m    760\u001B[0m \u001B[38;5;250m    \u001B[39m\u001B[38;5;124;03m\"\"\"\u001B[39;00m\n\u001B[0;32m    761\u001B[0m \u001B[38;5;124;03m    Alternate constructor to create a ``GeoDataFrame`` from a sql query\u001B[39;00m\n\u001B[0;32m    762\u001B[0m \u001B[38;5;124;03m    containing a geometry column in WKB representation.\u001B[39;00m\n\u001B[1;32m   (...)\u001B[0m\n\u001B[0;32m    814\u001B[0m \u001B[38;5;124;03m    geopandas.read_postgis : read PostGIS database to GeoDataFrame\u001B[39;00m\n\u001B[0;32m    815\u001B[0m \u001B[38;5;124;03m    \"\"\"\u001B[39;00m\n\u001B[1;32m--> 817\u001B[0m     df \u001B[38;5;241m=\u001B[39m \u001B[43mgeopandas\u001B[49m\u001B[38;5;241;43m.\u001B[39;49m\u001B[43mio\u001B[49m\u001B[38;5;241;43m.\u001B[39;49m\u001B[43msql\u001B[49m\u001B[38;5;241;43m.\u001B[39;49m\u001B[43m_read_postgis\u001B[49m\u001B[43m(\u001B[49m\n\u001B[0;32m    818\u001B[0m \u001B[43m        \u001B[49m\u001B[43msql\u001B[49m\u001B[43m,\u001B[49m\n\u001B[0;32m    819\u001B[0m \u001B[43m        \u001B[49m\u001B[43mcon\u001B[49m\u001B[43m,\u001B[49m\n\u001B[0;32m    820\u001B[0m \u001B[43m        \u001B[49m\u001B[43mgeom_col\u001B[49m\u001B[38;5;241;43m=\u001B[39;49m\u001B[43mgeom_col\u001B[49m\u001B[43m,\u001B[49m\n\u001B[0;32m    821\u001B[0m \u001B[43m        \u001B[49m\u001B[43mcrs\u001B[49m\u001B[38;5;241;43m=\u001B[39;49m\u001B[43mcrs\u001B[49m\u001B[43m,\u001B[49m\n\u001B[0;32m    822\u001B[0m \u001B[43m        \u001B[49m\u001B[43mindex_col\u001B[49m\u001B[38;5;241;43m=\u001B[39;49m\u001B[43mindex_col\u001B[49m\u001B[43m,\u001B[49m\n\u001B[0;32m    823\u001B[0m \u001B[43m        \u001B[49m\u001B[43mcoerce_float\u001B[49m\u001B[38;5;241;43m=\u001B[39;49m\u001B[43mcoerce_float\u001B[49m\u001B[43m,\u001B[49m\n\u001B[0;32m    824\u001B[0m \u001B[43m        \u001B[49m\u001B[43mparse_dates\u001B[49m\u001B[38;5;241;43m=\u001B[39;49m\u001B[43mparse_dates\u001B[49m\u001B[43m,\u001B[49m\n\u001B[0;32m    825\u001B[0m \u001B[43m        \u001B[49m\u001B[43mparams\u001B[49m\u001B[38;5;241;43m=\u001B[39;49m\u001B[43mparams\u001B[49m\u001B[43m,\u001B[49m\n\u001B[0;32m    826\u001B[0m \u001B[43m        \u001B[49m\u001B[43mchunksize\u001B[49m\u001B[38;5;241;43m=\u001B[39;49m\u001B[43mchunksize\u001B[49m\u001B[43m,\u001B[49m\n\u001B[0;32m    827\u001B[0m \u001B[43m    \u001B[49m\u001B[43m)\u001B[49m\n\u001B[0;32m    829\u001B[0m     \u001B[38;5;28;01mreturn\u001B[39;00m df\n",
      "File \u001B[1;32mC:\\ProgramData\\miniforge3\\envs\\gabelsci\\Lib\\site-packages\\geopandas\\io\\sql.py:185\u001B[0m, in \u001B[0;36m_read_postgis\u001B[1;34m(sql, con, geom_col, crs, index_col, coerce_float, parse_dates, params, chunksize)\u001B[0m\n\u001B[0;32m    135\u001B[0m \u001B[38;5;250m\u001B[39m\u001B[38;5;124;03m\"\"\"\u001B[39;00m\n\u001B[0;32m    136\u001B[0m \u001B[38;5;124;03mReturns a GeoDataFrame corresponding to the result of the query\u001B[39;00m\n\u001B[0;32m    137\u001B[0m \u001B[38;5;124;03mstring, which must contain a geometry column in WKB representation.\u001B[39;00m\n\u001B[1;32m   (...)\u001B[0m\n\u001B[0;32m    180\u001B[0m \u001B[38;5;124;03m>>> df = geopandas.read_postgis(sql, con)  # doctest: +SKIP\u001B[39;00m\n\u001B[0;32m    181\u001B[0m \u001B[38;5;124;03m\"\"\"\u001B[39;00m\n\u001B[0;32m    183\u001B[0m \u001B[38;5;28;01mif\u001B[39;00m chunksize \u001B[38;5;129;01mis\u001B[39;00m \u001B[38;5;28;01mNone\u001B[39;00m:\n\u001B[0;32m    184\u001B[0m     \u001B[38;5;66;03m# read all in one chunk and return a single GeoDataFrame\u001B[39;00m\n\u001B[1;32m--> 185\u001B[0m     df \u001B[38;5;241m=\u001B[39m \u001B[43mpd\u001B[49m\u001B[38;5;241;43m.\u001B[39;49m\u001B[43mread_sql\u001B[49m\u001B[43m(\u001B[49m\n\u001B[0;32m    186\u001B[0m \u001B[43m        \u001B[49m\u001B[43msql\u001B[49m\u001B[43m,\u001B[49m\n\u001B[0;32m    187\u001B[0m \u001B[43m        \u001B[49m\u001B[43mcon\u001B[49m\u001B[43m,\u001B[49m\n\u001B[0;32m    188\u001B[0m \u001B[43m        \u001B[49m\u001B[43mindex_col\u001B[49m\u001B[38;5;241;43m=\u001B[39;49m\u001B[43mindex_col\u001B[49m\u001B[43m,\u001B[49m\n\u001B[0;32m    189\u001B[0m \u001B[43m        \u001B[49m\u001B[43mcoerce_float\u001B[49m\u001B[38;5;241;43m=\u001B[39;49m\u001B[43mcoerce_float\u001B[49m\u001B[43m,\u001B[49m\n\u001B[0;32m    190\u001B[0m \u001B[43m        \u001B[49m\u001B[43mparse_dates\u001B[49m\u001B[38;5;241;43m=\u001B[39;49m\u001B[43mparse_dates\u001B[49m\u001B[43m,\u001B[49m\n\u001B[0;32m    191\u001B[0m \u001B[43m        \u001B[49m\u001B[43mparams\u001B[49m\u001B[38;5;241;43m=\u001B[39;49m\u001B[43mparams\u001B[49m\u001B[43m,\u001B[49m\n\u001B[0;32m    192\u001B[0m \u001B[43m        \u001B[49m\u001B[43mchunksize\u001B[49m\u001B[38;5;241;43m=\u001B[39;49m\u001B[43mchunksize\u001B[49m\u001B[43m,\u001B[49m\n\u001B[0;32m    193\u001B[0m \u001B[43m    \u001B[49m\u001B[43m)\u001B[49m\n\u001B[0;32m    194\u001B[0m     \u001B[38;5;28;01mreturn\u001B[39;00m _df_to_geodf(df, geom_col\u001B[38;5;241m=\u001B[39mgeom_col, crs\u001B[38;5;241m=\u001B[39mcrs, con\u001B[38;5;241m=\u001B[39mcon)\n\u001B[0;32m    196\u001B[0m \u001B[38;5;28;01melse\u001B[39;00m:\n\u001B[0;32m    197\u001B[0m     \u001B[38;5;66;03m# read data in chunks and return a generator\u001B[39;00m\n",
      "File \u001B[1;32mC:\\ProgramData\\miniforge3\\envs\\gabelsci\\Lib\\site-packages\\pandas\\io\\sql.py:734\u001B[0m, in \u001B[0;36mread_sql\u001B[1;34m(sql, con, index_col, coerce_float, params, parse_dates, columns, chunksize, dtype_backend, dtype)\u001B[0m\n\u001B[0;32m    724\u001B[0m     \u001B[38;5;28;01mreturn\u001B[39;00m pandas_sql\u001B[38;5;241m.\u001B[39mread_table(\n\u001B[0;32m    725\u001B[0m         sql,\n\u001B[0;32m    726\u001B[0m         index_col\u001B[38;5;241m=\u001B[39mindex_col,\n\u001B[1;32m   (...)\u001B[0m\n\u001B[0;32m    731\u001B[0m         dtype_backend\u001B[38;5;241m=\u001B[39mdtype_backend,\n\u001B[0;32m    732\u001B[0m     )\n\u001B[0;32m    733\u001B[0m \u001B[38;5;28;01melse\u001B[39;00m:\n\u001B[1;32m--> 734\u001B[0m     \u001B[38;5;28;01mreturn\u001B[39;00m \u001B[43mpandas_sql\u001B[49m\u001B[38;5;241;43m.\u001B[39;49m\u001B[43mread_query\u001B[49m\u001B[43m(\u001B[49m\n\u001B[0;32m    735\u001B[0m \u001B[43m        \u001B[49m\u001B[43msql\u001B[49m\u001B[43m,\u001B[49m\n\u001B[0;32m    736\u001B[0m \u001B[43m        \u001B[49m\u001B[43mindex_col\u001B[49m\u001B[38;5;241;43m=\u001B[39;49m\u001B[43mindex_col\u001B[49m\u001B[43m,\u001B[49m\n\u001B[0;32m    737\u001B[0m \u001B[43m        \u001B[49m\u001B[43mparams\u001B[49m\u001B[38;5;241;43m=\u001B[39;49m\u001B[43mparams\u001B[49m\u001B[43m,\u001B[49m\n\u001B[0;32m    738\u001B[0m \u001B[43m        \u001B[49m\u001B[43mcoerce_float\u001B[49m\u001B[38;5;241;43m=\u001B[39;49m\u001B[43mcoerce_float\u001B[49m\u001B[43m,\u001B[49m\n\u001B[0;32m    739\u001B[0m \u001B[43m        \u001B[49m\u001B[43mparse_dates\u001B[49m\u001B[38;5;241;43m=\u001B[39;49m\u001B[43mparse_dates\u001B[49m\u001B[43m,\u001B[49m\n\u001B[0;32m    740\u001B[0m \u001B[43m        \u001B[49m\u001B[43mchunksize\u001B[49m\u001B[38;5;241;43m=\u001B[39;49m\u001B[43mchunksize\u001B[49m\u001B[43m,\u001B[49m\n\u001B[0;32m    741\u001B[0m \u001B[43m        \u001B[49m\u001B[43mdtype_backend\u001B[49m\u001B[38;5;241;43m=\u001B[39;49m\u001B[43mdtype_backend\u001B[49m\u001B[43m,\u001B[49m\n\u001B[0;32m    742\u001B[0m \u001B[43m        \u001B[49m\u001B[43mdtype\u001B[49m\u001B[38;5;241;43m=\u001B[39;49m\u001B[43mdtype\u001B[49m\u001B[43m,\u001B[49m\n\u001B[0;32m    743\u001B[0m \u001B[43m    \u001B[49m\u001B[43m)\u001B[49m\n",
      "File \u001B[1;32mC:\\ProgramData\\miniforge3\\envs\\gabelsci\\Lib\\site-packages\\pandas\\io\\sql.py:1836\u001B[0m, in \u001B[0;36mSQLDatabase.read_query\u001B[1;34m(self, sql, index_col, coerce_float, parse_dates, params, chunksize, dtype, dtype_backend)\u001B[0m\n\u001B[0;32m   1779\u001B[0m \u001B[38;5;28;01mdef\u001B[39;00m \u001B[38;5;21mread_query\u001B[39m(\n\u001B[0;32m   1780\u001B[0m     \u001B[38;5;28mself\u001B[39m,\n\u001B[0;32m   1781\u001B[0m     sql: \u001B[38;5;28mstr\u001B[39m,\n\u001B[1;32m   (...)\u001B[0m\n\u001B[0;32m   1788\u001B[0m     dtype_backend: DtypeBackend \u001B[38;5;241m|\u001B[39m Literal[\u001B[38;5;124m\"\u001B[39m\u001B[38;5;124mnumpy\u001B[39m\u001B[38;5;124m\"\u001B[39m] \u001B[38;5;241m=\u001B[39m \u001B[38;5;124m\"\u001B[39m\u001B[38;5;124mnumpy\u001B[39m\u001B[38;5;124m\"\u001B[39m,\n\u001B[0;32m   1789\u001B[0m ) \u001B[38;5;241m-\u001B[39m\u001B[38;5;241m>\u001B[39m DataFrame \u001B[38;5;241m|\u001B[39m Iterator[DataFrame]:\n\u001B[0;32m   1790\u001B[0m \u001B[38;5;250m    \u001B[39m\u001B[38;5;124;03m\"\"\"\u001B[39;00m\n\u001B[0;32m   1791\u001B[0m \u001B[38;5;124;03m    Read SQL query into a DataFrame.\u001B[39;00m\n\u001B[0;32m   1792\u001B[0m \n\u001B[1;32m   (...)\u001B[0m\n\u001B[0;32m   1834\u001B[0m \n\u001B[0;32m   1835\u001B[0m \u001B[38;5;124;03m    \"\"\"\u001B[39;00m\n\u001B[1;32m-> 1836\u001B[0m     result \u001B[38;5;241m=\u001B[39m \u001B[38;5;28;43mself\u001B[39;49m\u001B[38;5;241;43m.\u001B[39;49m\u001B[43mexecute\u001B[49m\u001B[43m(\u001B[49m\u001B[43msql\u001B[49m\u001B[43m,\u001B[49m\u001B[43m \u001B[49m\u001B[43mparams\u001B[49m\u001B[43m)\u001B[49m\n\u001B[0;32m   1837\u001B[0m     columns \u001B[38;5;241m=\u001B[39m result\u001B[38;5;241m.\u001B[39mkeys()\n\u001B[0;32m   1839\u001B[0m     \u001B[38;5;28;01mif\u001B[39;00m chunksize \u001B[38;5;129;01mis\u001B[39;00m \u001B[38;5;129;01mnot\u001B[39;00m \u001B[38;5;28;01mNone\u001B[39;00m:\n",
      "File \u001B[1;32mC:\\ProgramData\\miniforge3\\envs\\gabelsci\\Lib\\site-packages\\pandas\\io\\sql.py:1659\u001B[0m, in \u001B[0;36mSQLDatabase.execute\u001B[1;34m(self, sql, params)\u001B[0m\n\u001B[0;32m   1657\u001B[0m args \u001B[38;5;241m=\u001B[39m [] \u001B[38;5;28;01mif\u001B[39;00m params \u001B[38;5;129;01mis\u001B[39;00m \u001B[38;5;28;01mNone\u001B[39;00m \u001B[38;5;28;01melse\u001B[39;00m [params]\n\u001B[0;32m   1658\u001B[0m \u001B[38;5;28;01mif\u001B[39;00m \u001B[38;5;28misinstance\u001B[39m(sql, \u001B[38;5;28mstr\u001B[39m):\n\u001B[1;32m-> 1659\u001B[0m     \u001B[38;5;28;01mreturn\u001B[39;00m \u001B[38;5;28;43mself\u001B[39;49m\u001B[38;5;241;43m.\u001B[39;49m\u001B[43mcon\u001B[49m\u001B[38;5;241;43m.\u001B[39;49m\u001B[43mexec_driver_sql\u001B[49m\u001B[43m(\u001B[49m\u001B[43msql\u001B[49m\u001B[43m,\u001B[49m\u001B[43m \u001B[49m\u001B[38;5;241;43m*\u001B[39;49m\u001B[43margs\u001B[49m\u001B[43m)\u001B[49m\n\u001B[0;32m   1660\u001B[0m \u001B[38;5;28;01mreturn\u001B[39;00m \u001B[38;5;28mself\u001B[39m\u001B[38;5;241m.\u001B[39mcon\u001B[38;5;241m.\u001B[39mexecute(sql, \u001B[38;5;241m*\u001B[39margs)\n",
      "File \u001B[1;32mC:\\ProgramData\\miniforge3\\envs\\gabelsci\\Lib\\site-packages\\sqlalchemy\\engine\\base.py:1779\u001B[0m, in \u001B[0;36mConnection.exec_driver_sql\u001B[1;34m(self, statement, parameters, execution_options)\u001B[0m\n\u001B[0;32m   1774\u001B[0m execution_options \u001B[38;5;241m=\u001B[39m \u001B[38;5;28mself\u001B[39m\u001B[38;5;241m.\u001B[39m_execution_options\u001B[38;5;241m.\u001B[39mmerge_with(\n\u001B[0;32m   1775\u001B[0m     execution_options\n\u001B[0;32m   1776\u001B[0m )\n\u001B[0;32m   1778\u001B[0m dialect \u001B[38;5;241m=\u001B[39m \u001B[38;5;28mself\u001B[39m\u001B[38;5;241m.\u001B[39mdialect\n\u001B[1;32m-> 1779\u001B[0m ret \u001B[38;5;241m=\u001B[39m \u001B[38;5;28;43mself\u001B[39;49m\u001B[38;5;241;43m.\u001B[39;49m\u001B[43m_execute_context\u001B[49m\u001B[43m(\u001B[49m\n\u001B[0;32m   1780\u001B[0m \u001B[43m    \u001B[49m\u001B[43mdialect\u001B[49m\u001B[43m,\u001B[49m\n\u001B[0;32m   1781\u001B[0m \u001B[43m    \u001B[49m\u001B[43mdialect\u001B[49m\u001B[38;5;241;43m.\u001B[39;49m\u001B[43mexecution_ctx_cls\u001B[49m\u001B[38;5;241;43m.\u001B[39;49m\u001B[43m_init_statement\u001B[49m\u001B[43m,\u001B[49m\n\u001B[0;32m   1782\u001B[0m \u001B[43m    \u001B[49m\u001B[43mstatement\u001B[49m\u001B[43m,\u001B[49m\n\u001B[0;32m   1783\u001B[0m \u001B[43m    \u001B[49m\u001B[38;5;28;43;01mNone\u001B[39;49;00m\u001B[43m,\u001B[49m\n\u001B[0;32m   1784\u001B[0m \u001B[43m    \u001B[49m\u001B[43mexecution_options\u001B[49m\u001B[43m,\u001B[49m\n\u001B[0;32m   1785\u001B[0m \u001B[43m    \u001B[49m\u001B[43mstatement\u001B[49m\u001B[43m,\u001B[49m\n\u001B[0;32m   1786\u001B[0m \u001B[43m    \u001B[49m\u001B[43mdistilled_parameters\u001B[49m\u001B[43m,\u001B[49m\n\u001B[0;32m   1787\u001B[0m \u001B[43m\u001B[49m\u001B[43m)\u001B[49m\n\u001B[0;32m   1789\u001B[0m \u001B[38;5;28;01mreturn\u001B[39;00m ret\n",
      "File \u001B[1;32mC:\\ProgramData\\miniforge3\\envs\\gabelsci\\Lib\\site-packages\\sqlalchemy\\engine\\base.py:1846\u001B[0m, in \u001B[0;36mConnection._execute_context\u001B[1;34m(self, dialect, constructor, statement, parameters, execution_options, *args, **kw)\u001B[0m\n\u001B[0;32m   1844\u001B[0m     \u001B[38;5;28;01mreturn\u001B[39;00m \u001B[38;5;28mself\u001B[39m\u001B[38;5;241m.\u001B[39m_exec_insertmany_context(dialect, context)\n\u001B[0;32m   1845\u001B[0m \u001B[38;5;28;01melse\u001B[39;00m:\n\u001B[1;32m-> 1846\u001B[0m     \u001B[38;5;28;01mreturn\u001B[39;00m \u001B[38;5;28;43mself\u001B[39;49m\u001B[38;5;241;43m.\u001B[39;49m\u001B[43m_exec_single_context\u001B[49m\u001B[43m(\u001B[49m\n\u001B[0;32m   1847\u001B[0m \u001B[43m        \u001B[49m\u001B[43mdialect\u001B[49m\u001B[43m,\u001B[49m\u001B[43m \u001B[49m\u001B[43mcontext\u001B[49m\u001B[43m,\u001B[49m\u001B[43m \u001B[49m\u001B[43mstatement\u001B[49m\u001B[43m,\u001B[49m\u001B[43m \u001B[49m\u001B[43mparameters\u001B[49m\n\u001B[0;32m   1848\u001B[0m \u001B[43m    \u001B[49m\u001B[43m)\u001B[49m\n",
      "File \u001B[1;32mC:\\ProgramData\\miniforge3\\envs\\gabelsci\\Lib\\site-packages\\sqlalchemy\\engine\\base.py:1986\u001B[0m, in \u001B[0;36mConnection._exec_single_context\u001B[1;34m(self, dialect, context, statement, parameters)\u001B[0m\n\u001B[0;32m   1983\u001B[0m     result \u001B[38;5;241m=\u001B[39m context\u001B[38;5;241m.\u001B[39m_setup_result_proxy()\n\u001B[0;32m   1985\u001B[0m \u001B[38;5;28;01mexcept\u001B[39;00m \u001B[38;5;167;01mBaseException\u001B[39;00m \u001B[38;5;28;01mas\u001B[39;00m e:\n\u001B[1;32m-> 1986\u001B[0m     \u001B[38;5;28;43mself\u001B[39;49m\u001B[38;5;241;43m.\u001B[39;49m\u001B[43m_handle_dbapi_exception\u001B[49m\u001B[43m(\u001B[49m\n\u001B[0;32m   1987\u001B[0m \u001B[43m        \u001B[49m\u001B[43me\u001B[49m\u001B[43m,\u001B[49m\u001B[43m \u001B[49m\u001B[43mstr_statement\u001B[49m\u001B[43m,\u001B[49m\u001B[43m \u001B[49m\u001B[43meffective_parameters\u001B[49m\u001B[43m,\u001B[49m\u001B[43m \u001B[49m\u001B[43mcursor\u001B[49m\u001B[43m,\u001B[49m\u001B[43m \u001B[49m\u001B[43mcontext\u001B[49m\n\u001B[0;32m   1988\u001B[0m \u001B[43m    \u001B[49m\u001B[43m)\u001B[49m\n\u001B[0;32m   1990\u001B[0m \u001B[38;5;28;01mreturn\u001B[39;00m result\n",
      "File \u001B[1;32mC:\\ProgramData\\miniforge3\\envs\\gabelsci\\Lib\\site-packages\\sqlalchemy\\engine\\base.py:2355\u001B[0m, in \u001B[0;36mConnection._handle_dbapi_exception\u001B[1;34m(self, e, statement, parameters, cursor, context, is_sub_exec)\u001B[0m\n\u001B[0;32m   2353\u001B[0m \u001B[38;5;28;01melif\u001B[39;00m should_wrap:\n\u001B[0;32m   2354\u001B[0m     \u001B[38;5;28;01massert\u001B[39;00m sqlalchemy_exception \u001B[38;5;129;01mis\u001B[39;00m \u001B[38;5;129;01mnot\u001B[39;00m \u001B[38;5;28;01mNone\u001B[39;00m\n\u001B[1;32m-> 2355\u001B[0m     \u001B[38;5;28;01mraise\u001B[39;00m sqlalchemy_exception\u001B[38;5;241m.\u001B[39mwith_traceback(exc_info[\u001B[38;5;241m2\u001B[39m]) \u001B[38;5;28;01mfrom\u001B[39;00m \u001B[38;5;21;01me\u001B[39;00m\n\u001B[0;32m   2356\u001B[0m \u001B[38;5;28;01melse\u001B[39;00m:\n\u001B[0;32m   2357\u001B[0m     \u001B[38;5;28;01massert\u001B[39;00m exc_info[\u001B[38;5;241m1\u001B[39m] \u001B[38;5;129;01mis\u001B[39;00m \u001B[38;5;129;01mnot\u001B[39;00m \u001B[38;5;28;01mNone\u001B[39;00m\n",
      "File \u001B[1;32mC:\\ProgramData\\miniforge3\\envs\\gabelsci\\Lib\\site-packages\\sqlalchemy\\engine\\base.py:1967\u001B[0m, in \u001B[0;36mConnection._exec_single_context\u001B[1;34m(self, dialect, context, statement, parameters)\u001B[0m\n\u001B[0;32m   1965\u001B[0m                 \u001B[38;5;28;01mbreak\u001B[39;00m\n\u001B[0;32m   1966\u001B[0m     \u001B[38;5;28;01mif\u001B[39;00m \u001B[38;5;129;01mnot\u001B[39;00m evt_handled:\n\u001B[1;32m-> 1967\u001B[0m         \u001B[38;5;28;43mself\u001B[39;49m\u001B[38;5;241;43m.\u001B[39;49m\u001B[43mdialect\u001B[49m\u001B[38;5;241;43m.\u001B[39;49m\u001B[43mdo_execute\u001B[49m\u001B[43m(\u001B[49m\n\u001B[0;32m   1968\u001B[0m \u001B[43m            \u001B[49m\u001B[43mcursor\u001B[49m\u001B[43m,\u001B[49m\u001B[43m \u001B[49m\u001B[43mstr_statement\u001B[49m\u001B[43m,\u001B[49m\u001B[43m \u001B[49m\u001B[43meffective_parameters\u001B[49m\u001B[43m,\u001B[49m\u001B[43m \u001B[49m\u001B[43mcontext\u001B[49m\n\u001B[0;32m   1969\u001B[0m \u001B[43m        \u001B[49m\u001B[43m)\u001B[49m\n\u001B[0;32m   1971\u001B[0m \u001B[38;5;28;01mif\u001B[39;00m \u001B[38;5;28mself\u001B[39m\u001B[38;5;241m.\u001B[39m_has_events \u001B[38;5;129;01mor\u001B[39;00m \u001B[38;5;28mself\u001B[39m\u001B[38;5;241m.\u001B[39mengine\u001B[38;5;241m.\u001B[39m_has_events:\n\u001B[0;32m   1972\u001B[0m     \u001B[38;5;28mself\u001B[39m\u001B[38;5;241m.\u001B[39mdispatch\u001B[38;5;241m.\u001B[39mafter_cursor_execute(\n\u001B[0;32m   1973\u001B[0m         \u001B[38;5;28mself\u001B[39m,\n\u001B[0;32m   1974\u001B[0m         cursor,\n\u001B[1;32m   (...)\u001B[0m\n\u001B[0;32m   1978\u001B[0m         context\u001B[38;5;241m.\u001B[39mexecutemany,\n\u001B[0;32m   1979\u001B[0m     )\n",
      "File \u001B[1;32mC:\\ProgramData\\miniforge3\\envs\\gabelsci\\Lib\\site-packages\\sqlalchemy\\engine\\default.py:941\u001B[0m, in \u001B[0;36mDefaultDialect.do_execute\u001B[1;34m(self, cursor, statement, parameters, context)\u001B[0m\n\u001B[0;32m    940\u001B[0m \u001B[38;5;28;01mdef\u001B[39;00m \u001B[38;5;21mdo_execute\u001B[39m(\u001B[38;5;28mself\u001B[39m, cursor, statement, parameters, context\u001B[38;5;241m=\u001B[39m\u001B[38;5;28;01mNone\u001B[39;00m):\n\u001B[1;32m--> 941\u001B[0m     \u001B[43mcursor\u001B[49m\u001B[38;5;241;43m.\u001B[39;49m\u001B[43mexecute\u001B[49m\u001B[43m(\u001B[49m\u001B[43mstatement\u001B[49m\u001B[43m,\u001B[49m\u001B[43m \u001B[49m\u001B[43mparameters\u001B[49m\u001B[43m)\u001B[49m\n",
      "\u001B[1;31mProgrammingError\u001B[0m: (psycopg2.errors.UndefinedTable) relation \"s_fld_haz_ar_19\" does not exist\nLINE 1: SELECT * FROM S_FLD_HAZ_AR_19 limit 5\n                      ^\n\n[SQL: SELECT * FROM S_FLD_HAZ_AR_19 limit 5]\n(Background on this error at: https://sqlalche.me/e/20/f405)"
     ]
    }
   ],
   "execution_count": 2
  },
  {
   "metadata": {
    "ExecuteTime": {
     "end_time": "2024-11-12T17:17:07.554886Z",
     "start_time": "2024-11-12T17:17:07.448548Z"
    }
   },
   "cell_type": "code",
   "source": [
    "query_test = \"SELECT * FROM S_FLD_HAZ_AR_19 limit 5\"\n",
    "gdf = gpd.GeoDataFrame.from_postgis(query_test, engine, geom_col='geom')"
   ],
   "id": "e95924e5a604163d",
   "outputs": [
    {
     "ename": "ProgrammingError",
     "evalue": "(psycopg2.errors.UndefinedTable) relation \"public.s_fld_haz_ar_19\" does not exist\nLINE 1: SELECT * FROM nfhl_tr32.public.S_FLD_HAZ_AR_19 limit 5\n                      ^\n\n[SQL: SELECT * FROM nfhl_tr32.public.S_FLD_HAZ_AR_19 limit 5]\n(Background on this error at: https://sqlalche.me/e/20/f405)",
     "output_type": "error",
     "traceback": [
      "\u001B[1;31m---------------------------------------------------------------------------\u001B[0m",
      "\u001B[1;31mUndefinedTable\u001B[0m                            Traceback (most recent call last)",
      "File \u001B[1;32mC:\\ProgramData\\miniforge3\\envs\\gabelsci\\Lib\\site-packages\\sqlalchemy\\engine\\base.py:1967\u001B[0m, in \u001B[0;36mConnection._exec_single_context\u001B[1;34m(self, dialect, context, statement, parameters)\u001B[0m\n\u001B[0;32m   1966\u001B[0m     \u001B[38;5;28;01mif\u001B[39;00m \u001B[38;5;129;01mnot\u001B[39;00m evt_handled:\n\u001B[1;32m-> 1967\u001B[0m         \u001B[38;5;28;43mself\u001B[39;49m\u001B[38;5;241;43m.\u001B[39;49m\u001B[43mdialect\u001B[49m\u001B[38;5;241;43m.\u001B[39;49m\u001B[43mdo_execute\u001B[49m\u001B[43m(\u001B[49m\n\u001B[0;32m   1968\u001B[0m \u001B[43m            \u001B[49m\u001B[43mcursor\u001B[49m\u001B[43m,\u001B[49m\u001B[43m \u001B[49m\u001B[43mstr_statement\u001B[49m\u001B[43m,\u001B[49m\u001B[43m \u001B[49m\u001B[43meffective_parameters\u001B[49m\u001B[43m,\u001B[49m\u001B[43m \u001B[49m\u001B[43mcontext\u001B[49m\n\u001B[0;32m   1969\u001B[0m \u001B[43m        \u001B[49m\u001B[43m)\u001B[49m\n\u001B[0;32m   1971\u001B[0m \u001B[38;5;28;01mif\u001B[39;00m \u001B[38;5;28mself\u001B[39m\u001B[38;5;241m.\u001B[39m_has_events \u001B[38;5;129;01mor\u001B[39;00m \u001B[38;5;28mself\u001B[39m\u001B[38;5;241m.\u001B[39mengine\u001B[38;5;241m.\u001B[39m_has_events:\n",
      "File \u001B[1;32mC:\\ProgramData\\miniforge3\\envs\\gabelsci\\Lib\\site-packages\\sqlalchemy\\engine\\default.py:941\u001B[0m, in \u001B[0;36mDefaultDialect.do_execute\u001B[1;34m(self, cursor, statement, parameters, context)\u001B[0m\n\u001B[0;32m    940\u001B[0m \u001B[38;5;28;01mdef\u001B[39;00m \u001B[38;5;21mdo_execute\u001B[39m(\u001B[38;5;28mself\u001B[39m, cursor, statement, parameters, context\u001B[38;5;241m=\u001B[39m\u001B[38;5;28;01mNone\u001B[39;00m):\n\u001B[1;32m--> 941\u001B[0m     \u001B[43mcursor\u001B[49m\u001B[38;5;241;43m.\u001B[39;49m\u001B[43mexecute\u001B[49m\u001B[43m(\u001B[49m\u001B[43mstatement\u001B[49m\u001B[43m,\u001B[49m\u001B[43m \u001B[49m\u001B[43mparameters\u001B[49m\u001B[43m)\u001B[49m\n",
      "\u001B[1;31mUndefinedTable\u001B[0m: relation \"public.s_fld_haz_ar_19\" does not exist\nLINE 1: SELECT * FROM nfhl_tr32.public.S_FLD_HAZ_AR_19 limit 5\n                      ^\n",
      "\nThe above exception was the direct cause of the following exception:\n",
      "\u001B[1;31mProgrammingError\u001B[0m                          Traceback (most recent call last)",
      "Cell \u001B[1;32mIn[3], line 2\u001B[0m\n\u001B[0;32m      1\u001B[0m query_test \u001B[38;5;241m=\u001B[39m \u001B[38;5;124m\"\u001B[39m\u001B[38;5;124mSELECT * FROM nfhl_tr32.public.S_FLD_HAZ_AR_19 limit 5\u001B[39m\u001B[38;5;124m\"\u001B[39m\n\u001B[1;32m----> 2\u001B[0m gdf \u001B[38;5;241m=\u001B[39m \u001B[43mgpd\u001B[49m\u001B[38;5;241;43m.\u001B[39;49m\u001B[43mGeoDataFrame\u001B[49m\u001B[38;5;241;43m.\u001B[39;49m\u001B[43mfrom_postgis\u001B[49m\u001B[43m(\u001B[49m\u001B[43mquery_test\u001B[49m\u001B[43m,\u001B[49m\u001B[43m \u001B[49m\u001B[43mengine\u001B[49m\u001B[43m,\u001B[49m\u001B[43m \u001B[49m\u001B[43mgeom_col\u001B[49m\u001B[38;5;241;43m=\u001B[39;49m\u001B[38;5;124;43m'\u001B[39;49m\u001B[38;5;124;43mgeom\u001B[39;49m\u001B[38;5;124;43m'\u001B[39;49m\u001B[43m)\u001B[49m\n",
      "File \u001B[1;32mC:\\ProgramData\\miniforge3\\envs\\gabelsci\\Lib\\site-packages\\geopandas\\geodataframe.py:817\u001B[0m, in \u001B[0;36mGeoDataFrame.from_postgis\u001B[1;34m(cls, sql, con, geom_col, crs, index_col, coerce_float, parse_dates, params, chunksize)\u001B[0m\n\u001B[0;32m    747\u001B[0m \u001B[38;5;129m@classmethod\u001B[39m\n\u001B[0;32m    748\u001B[0m \u001B[38;5;28;01mdef\u001B[39;00m \u001B[38;5;21mfrom_postgis\u001B[39m(\n\u001B[0;32m    749\u001B[0m     \u001B[38;5;28mcls\u001B[39m,\n\u001B[1;32m   (...)\u001B[0m\n\u001B[0;32m    758\u001B[0m     chunksize\u001B[38;5;241m=\u001B[39m\u001B[38;5;28;01mNone\u001B[39;00m,\n\u001B[0;32m    759\u001B[0m ):\n\u001B[0;32m    760\u001B[0m \u001B[38;5;250m    \u001B[39m\u001B[38;5;124;03m\"\"\"\u001B[39;00m\n\u001B[0;32m    761\u001B[0m \u001B[38;5;124;03m    Alternate constructor to create a ``GeoDataFrame`` from a sql query\u001B[39;00m\n\u001B[0;32m    762\u001B[0m \u001B[38;5;124;03m    containing a geometry column in WKB representation.\u001B[39;00m\n\u001B[1;32m   (...)\u001B[0m\n\u001B[0;32m    814\u001B[0m \u001B[38;5;124;03m    geopandas.read_postgis : read PostGIS database to GeoDataFrame\u001B[39;00m\n\u001B[0;32m    815\u001B[0m \u001B[38;5;124;03m    \"\"\"\u001B[39;00m\n\u001B[1;32m--> 817\u001B[0m     df \u001B[38;5;241m=\u001B[39m \u001B[43mgeopandas\u001B[49m\u001B[38;5;241;43m.\u001B[39;49m\u001B[43mio\u001B[49m\u001B[38;5;241;43m.\u001B[39;49m\u001B[43msql\u001B[49m\u001B[38;5;241;43m.\u001B[39;49m\u001B[43m_read_postgis\u001B[49m\u001B[43m(\u001B[49m\n\u001B[0;32m    818\u001B[0m \u001B[43m        \u001B[49m\u001B[43msql\u001B[49m\u001B[43m,\u001B[49m\n\u001B[0;32m    819\u001B[0m \u001B[43m        \u001B[49m\u001B[43mcon\u001B[49m\u001B[43m,\u001B[49m\n\u001B[0;32m    820\u001B[0m \u001B[43m        \u001B[49m\u001B[43mgeom_col\u001B[49m\u001B[38;5;241;43m=\u001B[39;49m\u001B[43mgeom_col\u001B[49m\u001B[43m,\u001B[49m\n\u001B[0;32m    821\u001B[0m \u001B[43m        \u001B[49m\u001B[43mcrs\u001B[49m\u001B[38;5;241;43m=\u001B[39;49m\u001B[43mcrs\u001B[49m\u001B[43m,\u001B[49m\n\u001B[0;32m    822\u001B[0m \u001B[43m        \u001B[49m\u001B[43mindex_col\u001B[49m\u001B[38;5;241;43m=\u001B[39;49m\u001B[43mindex_col\u001B[49m\u001B[43m,\u001B[49m\n\u001B[0;32m    823\u001B[0m \u001B[43m        \u001B[49m\u001B[43mcoerce_float\u001B[49m\u001B[38;5;241;43m=\u001B[39;49m\u001B[43mcoerce_float\u001B[49m\u001B[43m,\u001B[49m\n\u001B[0;32m    824\u001B[0m \u001B[43m        \u001B[49m\u001B[43mparse_dates\u001B[49m\u001B[38;5;241;43m=\u001B[39;49m\u001B[43mparse_dates\u001B[49m\u001B[43m,\u001B[49m\n\u001B[0;32m    825\u001B[0m \u001B[43m        \u001B[49m\u001B[43mparams\u001B[49m\u001B[38;5;241;43m=\u001B[39;49m\u001B[43mparams\u001B[49m\u001B[43m,\u001B[49m\n\u001B[0;32m    826\u001B[0m \u001B[43m        \u001B[49m\u001B[43mchunksize\u001B[49m\u001B[38;5;241;43m=\u001B[39;49m\u001B[43mchunksize\u001B[49m\u001B[43m,\u001B[49m\n\u001B[0;32m    827\u001B[0m \u001B[43m    \u001B[49m\u001B[43m)\u001B[49m\n\u001B[0;32m    829\u001B[0m     \u001B[38;5;28;01mreturn\u001B[39;00m df\n",
      "File \u001B[1;32mC:\\ProgramData\\miniforge3\\envs\\gabelsci\\Lib\\site-packages\\geopandas\\io\\sql.py:185\u001B[0m, in \u001B[0;36m_read_postgis\u001B[1;34m(sql, con, geom_col, crs, index_col, coerce_float, parse_dates, params, chunksize)\u001B[0m\n\u001B[0;32m    135\u001B[0m \u001B[38;5;250m\u001B[39m\u001B[38;5;124;03m\"\"\"\u001B[39;00m\n\u001B[0;32m    136\u001B[0m \u001B[38;5;124;03mReturns a GeoDataFrame corresponding to the result of the query\u001B[39;00m\n\u001B[0;32m    137\u001B[0m \u001B[38;5;124;03mstring, which must contain a geometry column in WKB representation.\u001B[39;00m\n\u001B[1;32m   (...)\u001B[0m\n\u001B[0;32m    180\u001B[0m \u001B[38;5;124;03m>>> df = geopandas.read_postgis(sql, con)  # doctest: +SKIP\u001B[39;00m\n\u001B[0;32m    181\u001B[0m \u001B[38;5;124;03m\"\"\"\u001B[39;00m\n\u001B[0;32m    183\u001B[0m \u001B[38;5;28;01mif\u001B[39;00m chunksize \u001B[38;5;129;01mis\u001B[39;00m \u001B[38;5;28;01mNone\u001B[39;00m:\n\u001B[0;32m    184\u001B[0m     \u001B[38;5;66;03m# read all in one chunk and return a single GeoDataFrame\u001B[39;00m\n\u001B[1;32m--> 185\u001B[0m     df \u001B[38;5;241m=\u001B[39m \u001B[43mpd\u001B[49m\u001B[38;5;241;43m.\u001B[39;49m\u001B[43mread_sql\u001B[49m\u001B[43m(\u001B[49m\n\u001B[0;32m    186\u001B[0m \u001B[43m        \u001B[49m\u001B[43msql\u001B[49m\u001B[43m,\u001B[49m\n\u001B[0;32m    187\u001B[0m \u001B[43m        \u001B[49m\u001B[43mcon\u001B[49m\u001B[43m,\u001B[49m\n\u001B[0;32m    188\u001B[0m \u001B[43m        \u001B[49m\u001B[43mindex_col\u001B[49m\u001B[38;5;241;43m=\u001B[39;49m\u001B[43mindex_col\u001B[49m\u001B[43m,\u001B[49m\n\u001B[0;32m    189\u001B[0m \u001B[43m        \u001B[49m\u001B[43mcoerce_float\u001B[49m\u001B[38;5;241;43m=\u001B[39;49m\u001B[43mcoerce_float\u001B[49m\u001B[43m,\u001B[49m\n\u001B[0;32m    190\u001B[0m \u001B[43m        \u001B[49m\u001B[43mparse_dates\u001B[49m\u001B[38;5;241;43m=\u001B[39;49m\u001B[43mparse_dates\u001B[49m\u001B[43m,\u001B[49m\n\u001B[0;32m    191\u001B[0m \u001B[43m        \u001B[49m\u001B[43mparams\u001B[49m\u001B[38;5;241;43m=\u001B[39;49m\u001B[43mparams\u001B[49m\u001B[43m,\u001B[49m\n\u001B[0;32m    192\u001B[0m \u001B[43m        \u001B[49m\u001B[43mchunksize\u001B[49m\u001B[38;5;241;43m=\u001B[39;49m\u001B[43mchunksize\u001B[49m\u001B[43m,\u001B[49m\n\u001B[0;32m    193\u001B[0m \u001B[43m    \u001B[49m\u001B[43m)\u001B[49m\n\u001B[0;32m    194\u001B[0m     \u001B[38;5;28;01mreturn\u001B[39;00m _df_to_geodf(df, geom_col\u001B[38;5;241m=\u001B[39mgeom_col, crs\u001B[38;5;241m=\u001B[39mcrs, con\u001B[38;5;241m=\u001B[39mcon)\n\u001B[0;32m    196\u001B[0m \u001B[38;5;28;01melse\u001B[39;00m:\n\u001B[0;32m    197\u001B[0m     \u001B[38;5;66;03m# read data in chunks and return a generator\u001B[39;00m\n",
      "File \u001B[1;32mC:\\ProgramData\\miniforge3\\envs\\gabelsci\\Lib\\site-packages\\pandas\\io\\sql.py:734\u001B[0m, in \u001B[0;36mread_sql\u001B[1;34m(sql, con, index_col, coerce_float, params, parse_dates, columns, chunksize, dtype_backend, dtype)\u001B[0m\n\u001B[0;32m    724\u001B[0m     \u001B[38;5;28;01mreturn\u001B[39;00m pandas_sql\u001B[38;5;241m.\u001B[39mread_table(\n\u001B[0;32m    725\u001B[0m         sql,\n\u001B[0;32m    726\u001B[0m         index_col\u001B[38;5;241m=\u001B[39mindex_col,\n\u001B[1;32m   (...)\u001B[0m\n\u001B[0;32m    731\u001B[0m         dtype_backend\u001B[38;5;241m=\u001B[39mdtype_backend,\n\u001B[0;32m    732\u001B[0m     )\n\u001B[0;32m    733\u001B[0m \u001B[38;5;28;01melse\u001B[39;00m:\n\u001B[1;32m--> 734\u001B[0m     \u001B[38;5;28;01mreturn\u001B[39;00m \u001B[43mpandas_sql\u001B[49m\u001B[38;5;241;43m.\u001B[39;49m\u001B[43mread_query\u001B[49m\u001B[43m(\u001B[49m\n\u001B[0;32m    735\u001B[0m \u001B[43m        \u001B[49m\u001B[43msql\u001B[49m\u001B[43m,\u001B[49m\n\u001B[0;32m    736\u001B[0m \u001B[43m        \u001B[49m\u001B[43mindex_col\u001B[49m\u001B[38;5;241;43m=\u001B[39;49m\u001B[43mindex_col\u001B[49m\u001B[43m,\u001B[49m\n\u001B[0;32m    737\u001B[0m \u001B[43m        \u001B[49m\u001B[43mparams\u001B[49m\u001B[38;5;241;43m=\u001B[39;49m\u001B[43mparams\u001B[49m\u001B[43m,\u001B[49m\n\u001B[0;32m    738\u001B[0m \u001B[43m        \u001B[49m\u001B[43mcoerce_float\u001B[49m\u001B[38;5;241;43m=\u001B[39;49m\u001B[43mcoerce_float\u001B[49m\u001B[43m,\u001B[49m\n\u001B[0;32m    739\u001B[0m \u001B[43m        \u001B[49m\u001B[43mparse_dates\u001B[49m\u001B[38;5;241;43m=\u001B[39;49m\u001B[43mparse_dates\u001B[49m\u001B[43m,\u001B[49m\n\u001B[0;32m    740\u001B[0m \u001B[43m        \u001B[49m\u001B[43mchunksize\u001B[49m\u001B[38;5;241;43m=\u001B[39;49m\u001B[43mchunksize\u001B[49m\u001B[43m,\u001B[49m\n\u001B[0;32m    741\u001B[0m \u001B[43m        \u001B[49m\u001B[43mdtype_backend\u001B[49m\u001B[38;5;241;43m=\u001B[39;49m\u001B[43mdtype_backend\u001B[49m\u001B[43m,\u001B[49m\n\u001B[0;32m    742\u001B[0m \u001B[43m        \u001B[49m\u001B[43mdtype\u001B[49m\u001B[38;5;241;43m=\u001B[39;49m\u001B[43mdtype\u001B[49m\u001B[43m,\u001B[49m\n\u001B[0;32m    743\u001B[0m \u001B[43m    \u001B[49m\u001B[43m)\u001B[49m\n",
      "File \u001B[1;32mC:\\ProgramData\\miniforge3\\envs\\gabelsci\\Lib\\site-packages\\pandas\\io\\sql.py:1836\u001B[0m, in \u001B[0;36mSQLDatabase.read_query\u001B[1;34m(self, sql, index_col, coerce_float, parse_dates, params, chunksize, dtype, dtype_backend)\u001B[0m\n\u001B[0;32m   1779\u001B[0m \u001B[38;5;28;01mdef\u001B[39;00m \u001B[38;5;21mread_query\u001B[39m(\n\u001B[0;32m   1780\u001B[0m     \u001B[38;5;28mself\u001B[39m,\n\u001B[0;32m   1781\u001B[0m     sql: \u001B[38;5;28mstr\u001B[39m,\n\u001B[1;32m   (...)\u001B[0m\n\u001B[0;32m   1788\u001B[0m     dtype_backend: DtypeBackend \u001B[38;5;241m|\u001B[39m Literal[\u001B[38;5;124m\"\u001B[39m\u001B[38;5;124mnumpy\u001B[39m\u001B[38;5;124m\"\u001B[39m] \u001B[38;5;241m=\u001B[39m \u001B[38;5;124m\"\u001B[39m\u001B[38;5;124mnumpy\u001B[39m\u001B[38;5;124m\"\u001B[39m,\n\u001B[0;32m   1789\u001B[0m ) \u001B[38;5;241m-\u001B[39m\u001B[38;5;241m>\u001B[39m DataFrame \u001B[38;5;241m|\u001B[39m Iterator[DataFrame]:\n\u001B[0;32m   1790\u001B[0m \u001B[38;5;250m    \u001B[39m\u001B[38;5;124;03m\"\"\"\u001B[39;00m\n\u001B[0;32m   1791\u001B[0m \u001B[38;5;124;03m    Read SQL query into a DataFrame.\u001B[39;00m\n\u001B[0;32m   1792\u001B[0m \n\u001B[1;32m   (...)\u001B[0m\n\u001B[0;32m   1834\u001B[0m \n\u001B[0;32m   1835\u001B[0m \u001B[38;5;124;03m    \"\"\"\u001B[39;00m\n\u001B[1;32m-> 1836\u001B[0m     result \u001B[38;5;241m=\u001B[39m \u001B[38;5;28;43mself\u001B[39;49m\u001B[38;5;241;43m.\u001B[39;49m\u001B[43mexecute\u001B[49m\u001B[43m(\u001B[49m\u001B[43msql\u001B[49m\u001B[43m,\u001B[49m\u001B[43m \u001B[49m\u001B[43mparams\u001B[49m\u001B[43m)\u001B[49m\n\u001B[0;32m   1837\u001B[0m     columns \u001B[38;5;241m=\u001B[39m result\u001B[38;5;241m.\u001B[39mkeys()\n\u001B[0;32m   1839\u001B[0m     \u001B[38;5;28;01mif\u001B[39;00m chunksize \u001B[38;5;129;01mis\u001B[39;00m \u001B[38;5;129;01mnot\u001B[39;00m \u001B[38;5;28;01mNone\u001B[39;00m:\n",
      "File \u001B[1;32mC:\\ProgramData\\miniforge3\\envs\\gabelsci\\Lib\\site-packages\\pandas\\io\\sql.py:1659\u001B[0m, in \u001B[0;36mSQLDatabase.execute\u001B[1;34m(self, sql, params)\u001B[0m\n\u001B[0;32m   1657\u001B[0m args \u001B[38;5;241m=\u001B[39m [] \u001B[38;5;28;01mif\u001B[39;00m params \u001B[38;5;129;01mis\u001B[39;00m \u001B[38;5;28;01mNone\u001B[39;00m \u001B[38;5;28;01melse\u001B[39;00m [params]\n\u001B[0;32m   1658\u001B[0m \u001B[38;5;28;01mif\u001B[39;00m \u001B[38;5;28misinstance\u001B[39m(sql, \u001B[38;5;28mstr\u001B[39m):\n\u001B[1;32m-> 1659\u001B[0m     \u001B[38;5;28;01mreturn\u001B[39;00m \u001B[38;5;28;43mself\u001B[39;49m\u001B[38;5;241;43m.\u001B[39;49m\u001B[43mcon\u001B[49m\u001B[38;5;241;43m.\u001B[39;49m\u001B[43mexec_driver_sql\u001B[49m\u001B[43m(\u001B[49m\u001B[43msql\u001B[49m\u001B[43m,\u001B[49m\u001B[43m \u001B[49m\u001B[38;5;241;43m*\u001B[39;49m\u001B[43margs\u001B[49m\u001B[43m)\u001B[49m\n\u001B[0;32m   1660\u001B[0m \u001B[38;5;28;01mreturn\u001B[39;00m \u001B[38;5;28mself\u001B[39m\u001B[38;5;241m.\u001B[39mcon\u001B[38;5;241m.\u001B[39mexecute(sql, \u001B[38;5;241m*\u001B[39margs)\n",
      "File \u001B[1;32mC:\\ProgramData\\miniforge3\\envs\\gabelsci\\Lib\\site-packages\\sqlalchemy\\engine\\base.py:1779\u001B[0m, in \u001B[0;36mConnection.exec_driver_sql\u001B[1;34m(self, statement, parameters, execution_options)\u001B[0m\n\u001B[0;32m   1774\u001B[0m execution_options \u001B[38;5;241m=\u001B[39m \u001B[38;5;28mself\u001B[39m\u001B[38;5;241m.\u001B[39m_execution_options\u001B[38;5;241m.\u001B[39mmerge_with(\n\u001B[0;32m   1775\u001B[0m     execution_options\n\u001B[0;32m   1776\u001B[0m )\n\u001B[0;32m   1778\u001B[0m dialect \u001B[38;5;241m=\u001B[39m \u001B[38;5;28mself\u001B[39m\u001B[38;5;241m.\u001B[39mdialect\n\u001B[1;32m-> 1779\u001B[0m ret \u001B[38;5;241m=\u001B[39m \u001B[38;5;28;43mself\u001B[39;49m\u001B[38;5;241;43m.\u001B[39;49m\u001B[43m_execute_context\u001B[49m\u001B[43m(\u001B[49m\n\u001B[0;32m   1780\u001B[0m \u001B[43m    \u001B[49m\u001B[43mdialect\u001B[49m\u001B[43m,\u001B[49m\n\u001B[0;32m   1781\u001B[0m \u001B[43m    \u001B[49m\u001B[43mdialect\u001B[49m\u001B[38;5;241;43m.\u001B[39;49m\u001B[43mexecution_ctx_cls\u001B[49m\u001B[38;5;241;43m.\u001B[39;49m\u001B[43m_init_statement\u001B[49m\u001B[43m,\u001B[49m\n\u001B[0;32m   1782\u001B[0m \u001B[43m    \u001B[49m\u001B[43mstatement\u001B[49m\u001B[43m,\u001B[49m\n\u001B[0;32m   1783\u001B[0m \u001B[43m    \u001B[49m\u001B[38;5;28;43;01mNone\u001B[39;49;00m\u001B[43m,\u001B[49m\n\u001B[0;32m   1784\u001B[0m \u001B[43m    \u001B[49m\u001B[43mexecution_options\u001B[49m\u001B[43m,\u001B[49m\n\u001B[0;32m   1785\u001B[0m \u001B[43m    \u001B[49m\u001B[43mstatement\u001B[49m\u001B[43m,\u001B[49m\n\u001B[0;32m   1786\u001B[0m \u001B[43m    \u001B[49m\u001B[43mdistilled_parameters\u001B[49m\u001B[43m,\u001B[49m\n\u001B[0;32m   1787\u001B[0m \u001B[43m\u001B[49m\u001B[43m)\u001B[49m\n\u001B[0;32m   1789\u001B[0m \u001B[38;5;28;01mreturn\u001B[39;00m ret\n",
      "File \u001B[1;32mC:\\ProgramData\\miniforge3\\envs\\gabelsci\\Lib\\site-packages\\sqlalchemy\\engine\\base.py:1846\u001B[0m, in \u001B[0;36mConnection._execute_context\u001B[1;34m(self, dialect, constructor, statement, parameters, execution_options, *args, **kw)\u001B[0m\n\u001B[0;32m   1844\u001B[0m     \u001B[38;5;28;01mreturn\u001B[39;00m \u001B[38;5;28mself\u001B[39m\u001B[38;5;241m.\u001B[39m_exec_insertmany_context(dialect, context)\n\u001B[0;32m   1845\u001B[0m \u001B[38;5;28;01melse\u001B[39;00m:\n\u001B[1;32m-> 1846\u001B[0m     \u001B[38;5;28;01mreturn\u001B[39;00m \u001B[38;5;28;43mself\u001B[39;49m\u001B[38;5;241;43m.\u001B[39;49m\u001B[43m_exec_single_context\u001B[49m\u001B[43m(\u001B[49m\n\u001B[0;32m   1847\u001B[0m \u001B[43m        \u001B[49m\u001B[43mdialect\u001B[49m\u001B[43m,\u001B[49m\u001B[43m \u001B[49m\u001B[43mcontext\u001B[49m\u001B[43m,\u001B[49m\u001B[43m \u001B[49m\u001B[43mstatement\u001B[49m\u001B[43m,\u001B[49m\u001B[43m \u001B[49m\u001B[43mparameters\u001B[49m\n\u001B[0;32m   1848\u001B[0m \u001B[43m    \u001B[49m\u001B[43m)\u001B[49m\n",
      "File \u001B[1;32mC:\\ProgramData\\miniforge3\\envs\\gabelsci\\Lib\\site-packages\\sqlalchemy\\engine\\base.py:1986\u001B[0m, in \u001B[0;36mConnection._exec_single_context\u001B[1;34m(self, dialect, context, statement, parameters)\u001B[0m\n\u001B[0;32m   1983\u001B[0m     result \u001B[38;5;241m=\u001B[39m context\u001B[38;5;241m.\u001B[39m_setup_result_proxy()\n\u001B[0;32m   1985\u001B[0m \u001B[38;5;28;01mexcept\u001B[39;00m \u001B[38;5;167;01mBaseException\u001B[39;00m \u001B[38;5;28;01mas\u001B[39;00m e:\n\u001B[1;32m-> 1986\u001B[0m     \u001B[38;5;28;43mself\u001B[39;49m\u001B[38;5;241;43m.\u001B[39;49m\u001B[43m_handle_dbapi_exception\u001B[49m\u001B[43m(\u001B[49m\n\u001B[0;32m   1987\u001B[0m \u001B[43m        \u001B[49m\u001B[43me\u001B[49m\u001B[43m,\u001B[49m\u001B[43m \u001B[49m\u001B[43mstr_statement\u001B[49m\u001B[43m,\u001B[49m\u001B[43m \u001B[49m\u001B[43meffective_parameters\u001B[49m\u001B[43m,\u001B[49m\u001B[43m \u001B[49m\u001B[43mcursor\u001B[49m\u001B[43m,\u001B[49m\u001B[43m \u001B[49m\u001B[43mcontext\u001B[49m\n\u001B[0;32m   1988\u001B[0m \u001B[43m    \u001B[49m\u001B[43m)\u001B[49m\n\u001B[0;32m   1990\u001B[0m \u001B[38;5;28;01mreturn\u001B[39;00m result\n",
      "File \u001B[1;32mC:\\ProgramData\\miniforge3\\envs\\gabelsci\\Lib\\site-packages\\sqlalchemy\\engine\\base.py:2355\u001B[0m, in \u001B[0;36mConnection._handle_dbapi_exception\u001B[1;34m(self, e, statement, parameters, cursor, context, is_sub_exec)\u001B[0m\n\u001B[0;32m   2353\u001B[0m \u001B[38;5;28;01melif\u001B[39;00m should_wrap:\n\u001B[0;32m   2354\u001B[0m     \u001B[38;5;28;01massert\u001B[39;00m sqlalchemy_exception \u001B[38;5;129;01mis\u001B[39;00m \u001B[38;5;129;01mnot\u001B[39;00m \u001B[38;5;28;01mNone\u001B[39;00m\n\u001B[1;32m-> 2355\u001B[0m     \u001B[38;5;28;01mraise\u001B[39;00m sqlalchemy_exception\u001B[38;5;241m.\u001B[39mwith_traceback(exc_info[\u001B[38;5;241m2\u001B[39m]) \u001B[38;5;28;01mfrom\u001B[39;00m \u001B[38;5;21;01me\u001B[39;00m\n\u001B[0;32m   2356\u001B[0m \u001B[38;5;28;01melse\u001B[39;00m:\n\u001B[0;32m   2357\u001B[0m     \u001B[38;5;28;01massert\u001B[39;00m exc_info[\u001B[38;5;241m1\u001B[39m] \u001B[38;5;129;01mis\u001B[39;00m \u001B[38;5;129;01mnot\u001B[39;00m \u001B[38;5;28;01mNone\u001B[39;00m\n",
      "File \u001B[1;32mC:\\ProgramData\\miniforge3\\envs\\gabelsci\\Lib\\site-packages\\sqlalchemy\\engine\\base.py:1967\u001B[0m, in \u001B[0;36mConnection._exec_single_context\u001B[1;34m(self, dialect, context, statement, parameters)\u001B[0m\n\u001B[0;32m   1965\u001B[0m                 \u001B[38;5;28;01mbreak\u001B[39;00m\n\u001B[0;32m   1966\u001B[0m     \u001B[38;5;28;01mif\u001B[39;00m \u001B[38;5;129;01mnot\u001B[39;00m evt_handled:\n\u001B[1;32m-> 1967\u001B[0m         \u001B[38;5;28;43mself\u001B[39;49m\u001B[38;5;241;43m.\u001B[39;49m\u001B[43mdialect\u001B[49m\u001B[38;5;241;43m.\u001B[39;49m\u001B[43mdo_execute\u001B[49m\u001B[43m(\u001B[49m\n\u001B[0;32m   1968\u001B[0m \u001B[43m            \u001B[49m\u001B[43mcursor\u001B[49m\u001B[43m,\u001B[49m\u001B[43m \u001B[49m\u001B[43mstr_statement\u001B[49m\u001B[43m,\u001B[49m\u001B[43m \u001B[49m\u001B[43meffective_parameters\u001B[49m\u001B[43m,\u001B[49m\u001B[43m \u001B[49m\u001B[43mcontext\u001B[49m\n\u001B[0;32m   1969\u001B[0m \u001B[43m        \u001B[49m\u001B[43m)\u001B[49m\n\u001B[0;32m   1971\u001B[0m \u001B[38;5;28;01mif\u001B[39;00m \u001B[38;5;28mself\u001B[39m\u001B[38;5;241m.\u001B[39m_has_events \u001B[38;5;129;01mor\u001B[39;00m \u001B[38;5;28mself\u001B[39m\u001B[38;5;241m.\u001B[39mengine\u001B[38;5;241m.\u001B[39m_has_events:\n\u001B[0;32m   1972\u001B[0m     \u001B[38;5;28mself\u001B[39m\u001B[38;5;241m.\u001B[39mdispatch\u001B[38;5;241m.\u001B[39mafter_cursor_execute(\n\u001B[0;32m   1973\u001B[0m         \u001B[38;5;28mself\u001B[39m,\n\u001B[0;32m   1974\u001B[0m         cursor,\n\u001B[1;32m   (...)\u001B[0m\n\u001B[0;32m   1978\u001B[0m         context\u001B[38;5;241m.\u001B[39mexecutemany,\n\u001B[0;32m   1979\u001B[0m     )\n",
      "File \u001B[1;32mC:\\ProgramData\\miniforge3\\envs\\gabelsci\\Lib\\site-packages\\sqlalchemy\\engine\\default.py:941\u001B[0m, in \u001B[0;36mDefaultDialect.do_execute\u001B[1;34m(self, cursor, statement, parameters, context)\u001B[0m\n\u001B[0;32m    940\u001B[0m \u001B[38;5;28;01mdef\u001B[39;00m \u001B[38;5;21mdo_execute\u001B[39m(\u001B[38;5;28mself\u001B[39m, cursor, statement, parameters, context\u001B[38;5;241m=\u001B[39m\u001B[38;5;28;01mNone\u001B[39;00m):\n\u001B[1;32m--> 941\u001B[0m     \u001B[43mcursor\u001B[49m\u001B[38;5;241;43m.\u001B[39;49m\u001B[43mexecute\u001B[49m\u001B[43m(\u001B[49m\u001B[43mstatement\u001B[49m\u001B[43m,\u001B[49m\u001B[43m \u001B[49m\u001B[43mparameters\u001B[49m\u001B[43m)\u001B[49m\n",
      "\u001B[1;31mProgrammingError\u001B[0m: (psycopg2.errors.UndefinedTable) relation \"public.s_fld_haz_ar_19\" does not exist\nLINE 1: SELECT * FROM nfhl_tr32.public.S_FLD_HAZ_AR_19 limit 5\n                      ^\n\n[SQL: SELECT * FROM nfhl_tr32.public.S_FLD_HAZ_AR_19 limit 5]\n(Background on this error at: https://sqlalche.me/e/20/f405)"
     ]
    }
   ],
   "execution_count": 3
  },
  {
   "metadata": {
    "ExecuteTime": {
     "end_time": "2024-11-12T17:30:36.747253Z",
     "start_time": "2024-11-12T17:30:36.664017Z"
    }
   },
   "cell_type": "code",
   "source": [
    "from geoalchemy2 import Geometry, WKTElement\n",
    "from sqlalchemy import Column, Integer, String, Float, MetaData\n",
    "from sqlalchemy.ext.declarative import declarative_base\n",
    "from sqlalchemy.orm import sessionmaker\n",
    "\n",
    "engine = get_postgis_engine(\"nfhl_tr32\")\n",
    "meta = MetaData()\n",
    "meta.reflect(bind=engine)\n",
    "\n",
    "intable = meta.tables['S_FLD_HAZ_AR_19']\n",
    "column_names = intable.columns.keys()\n",
    "print(\"\\n\".join(column_names))"
   ],
   "id": "7e47135f01ba72e0",
   "outputs": [
    {
     "name": "stdout",
     "output_type": "stream",
     "text": [
      "DFIRM_ID\n",
      "VERSION_ID\n",
      "FLD_AR_ID\n",
      "STUDY_TYP\n",
      "FLD_ZONE\n",
      "ZONE_SUBTY\n",
      "SFHA_TF\n",
      "STATIC_BFE\n",
      "V_DATUM\n",
      "DEPTH\n",
      "LEN_UNIT\n",
      "VELOCITY\n",
      "VEL_UNIT\n",
      "AR_REVERT\n",
      "AR_SUBTRV\n",
      "BFE_REVERT\n",
      "DEP_REVERT\n",
      "DUAL_ZONE\n",
      "SOURCE_CIT\n",
      "geom\n"
     ]
    }
   ],
   "execution_count": 6
  },
  {
   "metadata": {
    "ExecuteTime": {
     "end_time": "2024-11-12T17:56:00.339971Z",
     "start_time": "2024-11-12T17:56:00.204619Z"
    }
   },
   "cell_type": "code",
   "source": [
    "engine = get_postgis_engine(\"nfhl_tr32\")\n",
    "sql_query = 'SELECT * FROM \"S_FLD_HAZ_AR_19\" limit 5'\n",
    "gdf = gpd.GeoDataFrame.from_postgis(sql_query, engine, geom_col='geom')"
   ],
   "id": "5b1485ef8e13deeb",
   "outputs": [
    {
     "ename": "ProgrammingError",
     "evalue": "(psycopg2.errors.UndefinedTable) relation \"s_fld_haz_ar_19\" does not exist\nLINE 1: SELECT * FROM S_FLD_HAZ_AR_19 limit 5\n                      ^\n\n[SQL: SELECT * FROM S_FLD_HAZ_AR_19 limit 5]\n(Background on this error at: https://sqlalche.me/e/20/f405)",
     "output_type": "error",
     "traceback": [
      "\u001B[1;31m---------------------------------------------------------------------------\u001B[0m",
      "\u001B[1;31mUndefinedTable\u001B[0m                            Traceback (most recent call last)",
      "File \u001B[1;32mC:\\ProgramData\\miniforge3\\envs\\gabelsci\\Lib\\site-packages\\sqlalchemy\\engine\\base.py:1967\u001B[0m, in \u001B[0;36mConnection._exec_single_context\u001B[1;34m(self, dialect, context, statement, parameters)\u001B[0m\n\u001B[0;32m   1966\u001B[0m     \u001B[38;5;28;01mif\u001B[39;00m \u001B[38;5;129;01mnot\u001B[39;00m evt_handled:\n\u001B[1;32m-> 1967\u001B[0m         \u001B[38;5;28;43mself\u001B[39;49m\u001B[38;5;241;43m.\u001B[39;49m\u001B[43mdialect\u001B[49m\u001B[38;5;241;43m.\u001B[39;49m\u001B[43mdo_execute\u001B[49m\u001B[43m(\u001B[49m\n\u001B[0;32m   1968\u001B[0m \u001B[43m            \u001B[49m\u001B[43mcursor\u001B[49m\u001B[43m,\u001B[49m\u001B[43m \u001B[49m\u001B[43mstr_statement\u001B[49m\u001B[43m,\u001B[49m\u001B[43m \u001B[49m\u001B[43meffective_parameters\u001B[49m\u001B[43m,\u001B[49m\u001B[43m \u001B[49m\u001B[43mcontext\u001B[49m\n\u001B[0;32m   1969\u001B[0m \u001B[43m        \u001B[49m\u001B[43m)\u001B[49m\n\u001B[0;32m   1971\u001B[0m \u001B[38;5;28;01mif\u001B[39;00m \u001B[38;5;28mself\u001B[39m\u001B[38;5;241m.\u001B[39m_has_events \u001B[38;5;129;01mor\u001B[39;00m \u001B[38;5;28mself\u001B[39m\u001B[38;5;241m.\u001B[39mengine\u001B[38;5;241m.\u001B[39m_has_events:\n",
      "File \u001B[1;32mC:\\ProgramData\\miniforge3\\envs\\gabelsci\\Lib\\site-packages\\sqlalchemy\\engine\\default.py:941\u001B[0m, in \u001B[0;36mDefaultDialect.do_execute\u001B[1;34m(self, cursor, statement, parameters, context)\u001B[0m\n\u001B[0;32m    940\u001B[0m \u001B[38;5;28;01mdef\u001B[39;00m \u001B[38;5;21mdo_execute\u001B[39m(\u001B[38;5;28mself\u001B[39m, cursor, statement, parameters, context\u001B[38;5;241m=\u001B[39m\u001B[38;5;28;01mNone\u001B[39;00m):\n\u001B[1;32m--> 941\u001B[0m     \u001B[43mcursor\u001B[49m\u001B[38;5;241;43m.\u001B[39;49m\u001B[43mexecute\u001B[49m\u001B[43m(\u001B[49m\u001B[43mstatement\u001B[49m\u001B[43m,\u001B[49m\u001B[43m \u001B[49m\u001B[43mparameters\u001B[49m\u001B[43m)\u001B[49m\n",
      "\u001B[1;31mUndefinedTable\u001B[0m: relation \"s_fld_haz_ar_19\" does not exist\nLINE 1: SELECT * FROM S_FLD_HAZ_AR_19 limit 5\n                      ^\n",
      "\nThe above exception was the direct cause of the following exception:\n",
      "\u001B[1;31mProgrammingError\u001B[0m                          Traceback (most recent call last)",
      "Cell \u001B[1;32mIn[7], line 3\u001B[0m\n\u001B[0;32m      1\u001B[0m engine \u001B[38;5;241m=\u001B[39m get_postgis_engine(\u001B[38;5;124m\"\u001B[39m\u001B[38;5;124mnfhl_tr32\u001B[39m\u001B[38;5;124m\"\u001B[39m)\n\u001B[0;32m      2\u001B[0m sql_query \u001B[38;5;241m=\u001B[39m \u001B[38;5;124m\"\u001B[39m\u001B[38;5;124mSELECT * FROM S_FLD_HAZ_AR_19 limit 5\u001B[39m\u001B[38;5;124m\"\u001B[39m\n\u001B[1;32m----> 3\u001B[0m gdf \u001B[38;5;241m=\u001B[39m \u001B[43mgpd\u001B[49m\u001B[38;5;241;43m.\u001B[39;49m\u001B[43mGeoDataFrame\u001B[49m\u001B[38;5;241;43m.\u001B[39;49m\u001B[43mfrom_postgis\u001B[49m\u001B[43m(\u001B[49m\u001B[43msql_query\u001B[49m\u001B[43m,\u001B[49m\u001B[43m \u001B[49m\u001B[43mengine\u001B[49m\u001B[43m,\u001B[49m\u001B[43m \u001B[49m\u001B[43mgeom_col\u001B[49m\u001B[38;5;241;43m=\u001B[39;49m\u001B[38;5;124;43m'\u001B[39;49m\u001B[38;5;124;43mgeom\u001B[39;49m\u001B[38;5;124;43m'\u001B[39;49m\u001B[43m)\u001B[49m\n",
      "File \u001B[1;32mC:\\ProgramData\\miniforge3\\envs\\gabelsci\\Lib\\site-packages\\geopandas\\geodataframe.py:817\u001B[0m, in \u001B[0;36mGeoDataFrame.from_postgis\u001B[1;34m(cls, sql, con, geom_col, crs, index_col, coerce_float, parse_dates, params, chunksize)\u001B[0m\n\u001B[0;32m    747\u001B[0m \u001B[38;5;129m@classmethod\u001B[39m\n\u001B[0;32m    748\u001B[0m \u001B[38;5;28;01mdef\u001B[39;00m \u001B[38;5;21mfrom_postgis\u001B[39m(\n\u001B[0;32m    749\u001B[0m     \u001B[38;5;28mcls\u001B[39m,\n\u001B[1;32m   (...)\u001B[0m\n\u001B[0;32m    758\u001B[0m     chunksize\u001B[38;5;241m=\u001B[39m\u001B[38;5;28;01mNone\u001B[39;00m,\n\u001B[0;32m    759\u001B[0m ):\n\u001B[0;32m    760\u001B[0m \u001B[38;5;250m    \u001B[39m\u001B[38;5;124;03m\"\"\"\u001B[39;00m\n\u001B[0;32m    761\u001B[0m \u001B[38;5;124;03m    Alternate constructor to create a ``GeoDataFrame`` from a sql query\u001B[39;00m\n\u001B[0;32m    762\u001B[0m \u001B[38;5;124;03m    containing a geometry column in WKB representation.\u001B[39;00m\n\u001B[1;32m   (...)\u001B[0m\n\u001B[0;32m    814\u001B[0m \u001B[38;5;124;03m    geopandas.read_postgis : read PostGIS database to GeoDataFrame\u001B[39;00m\n\u001B[0;32m    815\u001B[0m \u001B[38;5;124;03m    \"\"\"\u001B[39;00m\n\u001B[1;32m--> 817\u001B[0m     df \u001B[38;5;241m=\u001B[39m \u001B[43mgeopandas\u001B[49m\u001B[38;5;241;43m.\u001B[39;49m\u001B[43mio\u001B[49m\u001B[38;5;241;43m.\u001B[39;49m\u001B[43msql\u001B[49m\u001B[38;5;241;43m.\u001B[39;49m\u001B[43m_read_postgis\u001B[49m\u001B[43m(\u001B[49m\n\u001B[0;32m    818\u001B[0m \u001B[43m        \u001B[49m\u001B[43msql\u001B[49m\u001B[43m,\u001B[49m\n\u001B[0;32m    819\u001B[0m \u001B[43m        \u001B[49m\u001B[43mcon\u001B[49m\u001B[43m,\u001B[49m\n\u001B[0;32m    820\u001B[0m \u001B[43m        \u001B[49m\u001B[43mgeom_col\u001B[49m\u001B[38;5;241;43m=\u001B[39;49m\u001B[43mgeom_col\u001B[49m\u001B[43m,\u001B[49m\n\u001B[0;32m    821\u001B[0m \u001B[43m        \u001B[49m\u001B[43mcrs\u001B[49m\u001B[38;5;241;43m=\u001B[39;49m\u001B[43mcrs\u001B[49m\u001B[43m,\u001B[49m\n\u001B[0;32m    822\u001B[0m \u001B[43m        \u001B[49m\u001B[43mindex_col\u001B[49m\u001B[38;5;241;43m=\u001B[39;49m\u001B[43mindex_col\u001B[49m\u001B[43m,\u001B[49m\n\u001B[0;32m    823\u001B[0m \u001B[43m        \u001B[49m\u001B[43mcoerce_float\u001B[49m\u001B[38;5;241;43m=\u001B[39;49m\u001B[43mcoerce_float\u001B[49m\u001B[43m,\u001B[49m\n\u001B[0;32m    824\u001B[0m \u001B[43m        \u001B[49m\u001B[43mparse_dates\u001B[49m\u001B[38;5;241;43m=\u001B[39;49m\u001B[43mparse_dates\u001B[49m\u001B[43m,\u001B[49m\n\u001B[0;32m    825\u001B[0m \u001B[43m        \u001B[49m\u001B[43mparams\u001B[49m\u001B[38;5;241;43m=\u001B[39;49m\u001B[43mparams\u001B[49m\u001B[43m,\u001B[49m\n\u001B[0;32m    826\u001B[0m \u001B[43m        \u001B[49m\u001B[43mchunksize\u001B[49m\u001B[38;5;241;43m=\u001B[39;49m\u001B[43mchunksize\u001B[49m\u001B[43m,\u001B[49m\n\u001B[0;32m    827\u001B[0m \u001B[43m    \u001B[49m\u001B[43m)\u001B[49m\n\u001B[0;32m    829\u001B[0m     \u001B[38;5;28;01mreturn\u001B[39;00m df\n",
      "File \u001B[1;32mC:\\ProgramData\\miniforge3\\envs\\gabelsci\\Lib\\site-packages\\geopandas\\io\\sql.py:185\u001B[0m, in \u001B[0;36m_read_postgis\u001B[1;34m(sql, con, geom_col, crs, index_col, coerce_float, parse_dates, params, chunksize)\u001B[0m\n\u001B[0;32m    135\u001B[0m \u001B[38;5;250m\u001B[39m\u001B[38;5;124;03m\"\"\"\u001B[39;00m\n\u001B[0;32m    136\u001B[0m \u001B[38;5;124;03mReturns a GeoDataFrame corresponding to the result of the query\u001B[39;00m\n\u001B[0;32m    137\u001B[0m \u001B[38;5;124;03mstring, which must contain a geometry column in WKB representation.\u001B[39;00m\n\u001B[1;32m   (...)\u001B[0m\n\u001B[0;32m    180\u001B[0m \u001B[38;5;124;03m>>> df = geopandas.read_postgis(sql, con)  # doctest: +SKIP\u001B[39;00m\n\u001B[0;32m    181\u001B[0m \u001B[38;5;124;03m\"\"\"\u001B[39;00m\n\u001B[0;32m    183\u001B[0m \u001B[38;5;28;01mif\u001B[39;00m chunksize \u001B[38;5;129;01mis\u001B[39;00m \u001B[38;5;28;01mNone\u001B[39;00m:\n\u001B[0;32m    184\u001B[0m     \u001B[38;5;66;03m# read all in one chunk and return a single GeoDataFrame\u001B[39;00m\n\u001B[1;32m--> 185\u001B[0m     df \u001B[38;5;241m=\u001B[39m \u001B[43mpd\u001B[49m\u001B[38;5;241;43m.\u001B[39;49m\u001B[43mread_sql\u001B[49m\u001B[43m(\u001B[49m\n\u001B[0;32m    186\u001B[0m \u001B[43m        \u001B[49m\u001B[43msql\u001B[49m\u001B[43m,\u001B[49m\n\u001B[0;32m    187\u001B[0m \u001B[43m        \u001B[49m\u001B[43mcon\u001B[49m\u001B[43m,\u001B[49m\n\u001B[0;32m    188\u001B[0m \u001B[43m        \u001B[49m\u001B[43mindex_col\u001B[49m\u001B[38;5;241;43m=\u001B[39;49m\u001B[43mindex_col\u001B[49m\u001B[43m,\u001B[49m\n\u001B[0;32m    189\u001B[0m \u001B[43m        \u001B[49m\u001B[43mcoerce_float\u001B[49m\u001B[38;5;241;43m=\u001B[39;49m\u001B[43mcoerce_float\u001B[49m\u001B[43m,\u001B[49m\n\u001B[0;32m    190\u001B[0m \u001B[43m        \u001B[49m\u001B[43mparse_dates\u001B[49m\u001B[38;5;241;43m=\u001B[39;49m\u001B[43mparse_dates\u001B[49m\u001B[43m,\u001B[49m\n\u001B[0;32m    191\u001B[0m \u001B[43m        \u001B[49m\u001B[43mparams\u001B[49m\u001B[38;5;241;43m=\u001B[39;49m\u001B[43mparams\u001B[49m\u001B[43m,\u001B[49m\n\u001B[0;32m    192\u001B[0m \u001B[43m        \u001B[49m\u001B[43mchunksize\u001B[49m\u001B[38;5;241;43m=\u001B[39;49m\u001B[43mchunksize\u001B[49m\u001B[43m,\u001B[49m\n\u001B[0;32m    193\u001B[0m \u001B[43m    \u001B[49m\u001B[43m)\u001B[49m\n\u001B[0;32m    194\u001B[0m     \u001B[38;5;28;01mreturn\u001B[39;00m _df_to_geodf(df, geom_col\u001B[38;5;241m=\u001B[39mgeom_col, crs\u001B[38;5;241m=\u001B[39mcrs, con\u001B[38;5;241m=\u001B[39mcon)\n\u001B[0;32m    196\u001B[0m \u001B[38;5;28;01melse\u001B[39;00m:\n\u001B[0;32m    197\u001B[0m     \u001B[38;5;66;03m# read data in chunks and return a generator\u001B[39;00m\n",
      "File \u001B[1;32mC:\\ProgramData\\miniforge3\\envs\\gabelsci\\Lib\\site-packages\\pandas\\io\\sql.py:734\u001B[0m, in \u001B[0;36mread_sql\u001B[1;34m(sql, con, index_col, coerce_float, params, parse_dates, columns, chunksize, dtype_backend, dtype)\u001B[0m\n\u001B[0;32m    724\u001B[0m     \u001B[38;5;28;01mreturn\u001B[39;00m pandas_sql\u001B[38;5;241m.\u001B[39mread_table(\n\u001B[0;32m    725\u001B[0m         sql,\n\u001B[0;32m    726\u001B[0m         index_col\u001B[38;5;241m=\u001B[39mindex_col,\n\u001B[1;32m   (...)\u001B[0m\n\u001B[0;32m    731\u001B[0m         dtype_backend\u001B[38;5;241m=\u001B[39mdtype_backend,\n\u001B[0;32m    732\u001B[0m     )\n\u001B[0;32m    733\u001B[0m \u001B[38;5;28;01melse\u001B[39;00m:\n\u001B[1;32m--> 734\u001B[0m     \u001B[38;5;28;01mreturn\u001B[39;00m \u001B[43mpandas_sql\u001B[49m\u001B[38;5;241;43m.\u001B[39;49m\u001B[43mread_query\u001B[49m\u001B[43m(\u001B[49m\n\u001B[0;32m    735\u001B[0m \u001B[43m        \u001B[49m\u001B[43msql\u001B[49m\u001B[43m,\u001B[49m\n\u001B[0;32m    736\u001B[0m \u001B[43m        \u001B[49m\u001B[43mindex_col\u001B[49m\u001B[38;5;241;43m=\u001B[39;49m\u001B[43mindex_col\u001B[49m\u001B[43m,\u001B[49m\n\u001B[0;32m    737\u001B[0m \u001B[43m        \u001B[49m\u001B[43mparams\u001B[49m\u001B[38;5;241;43m=\u001B[39;49m\u001B[43mparams\u001B[49m\u001B[43m,\u001B[49m\n\u001B[0;32m    738\u001B[0m \u001B[43m        \u001B[49m\u001B[43mcoerce_float\u001B[49m\u001B[38;5;241;43m=\u001B[39;49m\u001B[43mcoerce_float\u001B[49m\u001B[43m,\u001B[49m\n\u001B[0;32m    739\u001B[0m \u001B[43m        \u001B[49m\u001B[43mparse_dates\u001B[49m\u001B[38;5;241;43m=\u001B[39;49m\u001B[43mparse_dates\u001B[49m\u001B[43m,\u001B[49m\n\u001B[0;32m    740\u001B[0m \u001B[43m        \u001B[49m\u001B[43mchunksize\u001B[49m\u001B[38;5;241;43m=\u001B[39;49m\u001B[43mchunksize\u001B[49m\u001B[43m,\u001B[49m\n\u001B[0;32m    741\u001B[0m \u001B[43m        \u001B[49m\u001B[43mdtype_backend\u001B[49m\u001B[38;5;241;43m=\u001B[39;49m\u001B[43mdtype_backend\u001B[49m\u001B[43m,\u001B[49m\n\u001B[0;32m    742\u001B[0m \u001B[43m        \u001B[49m\u001B[43mdtype\u001B[49m\u001B[38;5;241;43m=\u001B[39;49m\u001B[43mdtype\u001B[49m\u001B[43m,\u001B[49m\n\u001B[0;32m    743\u001B[0m \u001B[43m    \u001B[49m\u001B[43m)\u001B[49m\n",
      "File \u001B[1;32mC:\\ProgramData\\miniforge3\\envs\\gabelsci\\Lib\\site-packages\\pandas\\io\\sql.py:1836\u001B[0m, in \u001B[0;36mSQLDatabase.read_query\u001B[1;34m(self, sql, index_col, coerce_float, parse_dates, params, chunksize, dtype, dtype_backend)\u001B[0m\n\u001B[0;32m   1779\u001B[0m \u001B[38;5;28;01mdef\u001B[39;00m \u001B[38;5;21mread_query\u001B[39m(\n\u001B[0;32m   1780\u001B[0m     \u001B[38;5;28mself\u001B[39m,\n\u001B[0;32m   1781\u001B[0m     sql: \u001B[38;5;28mstr\u001B[39m,\n\u001B[1;32m   (...)\u001B[0m\n\u001B[0;32m   1788\u001B[0m     dtype_backend: DtypeBackend \u001B[38;5;241m|\u001B[39m Literal[\u001B[38;5;124m\"\u001B[39m\u001B[38;5;124mnumpy\u001B[39m\u001B[38;5;124m\"\u001B[39m] \u001B[38;5;241m=\u001B[39m \u001B[38;5;124m\"\u001B[39m\u001B[38;5;124mnumpy\u001B[39m\u001B[38;5;124m\"\u001B[39m,\n\u001B[0;32m   1789\u001B[0m ) \u001B[38;5;241m-\u001B[39m\u001B[38;5;241m>\u001B[39m DataFrame \u001B[38;5;241m|\u001B[39m Iterator[DataFrame]:\n\u001B[0;32m   1790\u001B[0m \u001B[38;5;250m    \u001B[39m\u001B[38;5;124;03m\"\"\"\u001B[39;00m\n\u001B[0;32m   1791\u001B[0m \u001B[38;5;124;03m    Read SQL query into a DataFrame.\u001B[39;00m\n\u001B[0;32m   1792\u001B[0m \n\u001B[1;32m   (...)\u001B[0m\n\u001B[0;32m   1834\u001B[0m \n\u001B[0;32m   1835\u001B[0m \u001B[38;5;124;03m    \"\"\"\u001B[39;00m\n\u001B[1;32m-> 1836\u001B[0m     result \u001B[38;5;241m=\u001B[39m \u001B[38;5;28;43mself\u001B[39;49m\u001B[38;5;241;43m.\u001B[39;49m\u001B[43mexecute\u001B[49m\u001B[43m(\u001B[49m\u001B[43msql\u001B[49m\u001B[43m,\u001B[49m\u001B[43m \u001B[49m\u001B[43mparams\u001B[49m\u001B[43m)\u001B[49m\n\u001B[0;32m   1837\u001B[0m     columns \u001B[38;5;241m=\u001B[39m result\u001B[38;5;241m.\u001B[39mkeys()\n\u001B[0;32m   1839\u001B[0m     \u001B[38;5;28;01mif\u001B[39;00m chunksize \u001B[38;5;129;01mis\u001B[39;00m \u001B[38;5;129;01mnot\u001B[39;00m \u001B[38;5;28;01mNone\u001B[39;00m:\n",
      "File \u001B[1;32mC:\\ProgramData\\miniforge3\\envs\\gabelsci\\Lib\\site-packages\\pandas\\io\\sql.py:1659\u001B[0m, in \u001B[0;36mSQLDatabase.execute\u001B[1;34m(self, sql, params)\u001B[0m\n\u001B[0;32m   1657\u001B[0m args \u001B[38;5;241m=\u001B[39m [] \u001B[38;5;28;01mif\u001B[39;00m params \u001B[38;5;129;01mis\u001B[39;00m \u001B[38;5;28;01mNone\u001B[39;00m \u001B[38;5;28;01melse\u001B[39;00m [params]\n\u001B[0;32m   1658\u001B[0m \u001B[38;5;28;01mif\u001B[39;00m \u001B[38;5;28misinstance\u001B[39m(sql, \u001B[38;5;28mstr\u001B[39m):\n\u001B[1;32m-> 1659\u001B[0m     \u001B[38;5;28;01mreturn\u001B[39;00m \u001B[38;5;28;43mself\u001B[39;49m\u001B[38;5;241;43m.\u001B[39;49m\u001B[43mcon\u001B[49m\u001B[38;5;241;43m.\u001B[39;49m\u001B[43mexec_driver_sql\u001B[49m\u001B[43m(\u001B[49m\u001B[43msql\u001B[49m\u001B[43m,\u001B[49m\u001B[43m \u001B[49m\u001B[38;5;241;43m*\u001B[39;49m\u001B[43margs\u001B[49m\u001B[43m)\u001B[49m\n\u001B[0;32m   1660\u001B[0m \u001B[38;5;28;01mreturn\u001B[39;00m \u001B[38;5;28mself\u001B[39m\u001B[38;5;241m.\u001B[39mcon\u001B[38;5;241m.\u001B[39mexecute(sql, \u001B[38;5;241m*\u001B[39margs)\n",
      "File \u001B[1;32mC:\\ProgramData\\miniforge3\\envs\\gabelsci\\Lib\\site-packages\\sqlalchemy\\engine\\base.py:1779\u001B[0m, in \u001B[0;36mConnection.exec_driver_sql\u001B[1;34m(self, statement, parameters, execution_options)\u001B[0m\n\u001B[0;32m   1774\u001B[0m execution_options \u001B[38;5;241m=\u001B[39m \u001B[38;5;28mself\u001B[39m\u001B[38;5;241m.\u001B[39m_execution_options\u001B[38;5;241m.\u001B[39mmerge_with(\n\u001B[0;32m   1775\u001B[0m     execution_options\n\u001B[0;32m   1776\u001B[0m )\n\u001B[0;32m   1778\u001B[0m dialect \u001B[38;5;241m=\u001B[39m \u001B[38;5;28mself\u001B[39m\u001B[38;5;241m.\u001B[39mdialect\n\u001B[1;32m-> 1779\u001B[0m ret \u001B[38;5;241m=\u001B[39m \u001B[38;5;28;43mself\u001B[39;49m\u001B[38;5;241;43m.\u001B[39;49m\u001B[43m_execute_context\u001B[49m\u001B[43m(\u001B[49m\n\u001B[0;32m   1780\u001B[0m \u001B[43m    \u001B[49m\u001B[43mdialect\u001B[49m\u001B[43m,\u001B[49m\n\u001B[0;32m   1781\u001B[0m \u001B[43m    \u001B[49m\u001B[43mdialect\u001B[49m\u001B[38;5;241;43m.\u001B[39;49m\u001B[43mexecution_ctx_cls\u001B[49m\u001B[38;5;241;43m.\u001B[39;49m\u001B[43m_init_statement\u001B[49m\u001B[43m,\u001B[49m\n\u001B[0;32m   1782\u001B[0m \u001B[43m    \u001B[49m\u001B[43mstatement\u001B[49m\u001B[43m,\u001B[49m\n\u001B[0;32m   1783\u001B[0m \u001B[43m    \u001B[49m\u001B[38;5;28;43;01mNone\u001B[39;49;00m\u001B[43m,\u001B[49m\n\u001B[0;32m   1784\u001B[0m \u001B[43m    \u001B[49m\u001B[43mexecution_options\u001B[49m\u001B[43m,\u001B[49m\n\u001B[0;32m   1785\u001B[0m \u001B[43m    \u001B[49m\u001B[43mstatement\u001B[49m\u001B[43m,\u001B[49m\n\u001B[0;32m   1786\u001B[0m \u001B[43m    \u001B[49m\u001B[43mdistilled_parameters\u001B[49m\u001B[43m,\u001B[49m\n\u001B[0;32m   1787\u001B[0m \u001B[43m\u001B[49m\u001B[43m)\u001B[49m\n\u001B[0;32m   1789\u001B[0m \u001B[38;5;28;01mreturn\u001B[39;00m ret\n",
      "File \u001B[1;32mC:\\ProgramData\\miniforge3\\envs\\gabelsci\\Lib\\site-packages\\sqlalchemy\\engine\\base.py:1846\u001B[0m, in \u001B[0;36mConnection._execute_context\u001B[1;34m(self, dialect, constructor, statement, parameters, execution_options, *args, **kw)\u001B[0m\n\u001B[0;32m   1844\u001B[0m     \u001B[38;5;28;01mreturn\u001B[39;00m \u001B[38;5;28mself\u001B[39m\u001B[38;5;241m.\u001B[39m_exec_insertmany_context(dialect, context)\n\u001B[0;32m   1845\u001B[0m \u001B[38;5;28;01melse\u001B[39;00m:\n\u001B[1;32m-> 1846\u001B[0m     \u001B[38;5;28;01mreturn\u001B[39;00m \u001B[38;5;28;43mself\u001B[39;49m\u001B[38;5;241;43m.\u001B[39;49m\u001B[43m_exec_single_context\u001B[49m\u001B[43m(\u001B[49m\n\u001B[0;32m   1847\u001B[0m \u001B[43m        \u001B[49m\u001B[43mdialect\u001B[49m\u001B[43m,\u001B[49m\u001B[43m \u001B[49m\u001B[43mcontext\u001B[49m\u001B[43m,\u001B[49m\u001B[43m \u001B[49m\u001B[43mstatement\u001B[49m\u001B[43m,\u001B[49m\u001B[43m \u001B[49m\u001B[43mparameters\u001B[49m\n\u001B[0;32m   1848\u001B[0m \u001B[43m    \u001B[49m\u001B[43m)\u001B[49m\n",
      "File \u001B[1;32mC:\\ProgramData\\miniforge3\\envs\\gabelsci\\Lib\\site-packages\\sqlalchemy\\engine\\base.py:1986\u001B[0m, in \u001B[0;36mConnection._exec_single_context\u001B[1;34m(self, dialect, context, statement, parameters)\u001B[0m\n\u001B[0;32m   1983\u001B[0m     result \u001B[38;5;241m=\u001B[39m context\u001B[38;5;241m.\u001B[39m_setup_result_proxy()\n\u001B[0;32m   1985\u001B[0m \u001B[38;5;28;01mexcept\u001B[39;00m \u001B[38;5;167;01mBaseException\u001B[39;00m \u001B[38;5;28;01mas\u001B[39;00m e:\n\u001B[1;32m-> 1986\u001B[0m     \u001B[38;5;28;43mself\u001B[39;49m\u001B[38;5;241;43m.\u001B[39;49m\u001B[43m_handle_dbapi_exception\u001B[49m\u001B[43m(\u001B[49m\n\u001B[0;32m   1987\u001B[0m \u001B[43m        \u001B[49m\u001B[43me\u001B[49m\u001B[43m,\u001B[49m\u001B[43m \u001B[49m\u001B[43mstr_statement\u001B[49m\u001B[43m,\u001B[49m\u001B[43m \u001B[49m\u001B[43meffective_parameters\u001B[49m\u001B[43m,\u001B[49m\u001B[43m \u001B[49m\u001B[43mcursor\u001B[49m\u001B[43m,\u001B[49m\u001B[43m \u001B[49m\u001B[43mcontext\u001B[49m\n\u001B[0;32m   1988\u001B[0m \u001B[43m    \u001B[49m\u001B[43m)\u001B[49m\n\u001B[0;32m   1990\u001B[0m \u001B[38;5;28;01mreturn\u001B[39;00m result\n",
      "File \u001B[1;32mC:\\ProgramData\\miniforge3\\envs\\gabelsci\\Lib\\site-packages\\sqlalchemy\\engine\\base.py:2355\u001B[0m, in \u001B[0;36mConnection._handle_dbapi_exception\u001B[1;34m(self, e, statement, parameters, cursor, context, is_sub_exec)\u001B[0m\n\u001B[0;32m   2353\u001B[0m \u001B[38;5;28;01melif\u001B[39;00m should_wrap:\n\u001B[0;32m   2354\u001B[0m     \u001B[38;5;28;01massert\u001B[39;00m sqlalchemy_exception \u001B[38;5;129;01mis\u001B[39;00m \u001B[38;5;129;01mnot\u001B[39;00m \u001B[38;5;28;01mNone\u001B[39;00m\n\u001B[1;32m-> 2355\u001B[0m     \u001B[38;5;28;01mraise\u001B[39;00m sqlalchemy_exception\u001B[38;5;241m.\u001B[39mwith_traceback(exc_info[\u001B[38;5;241m2\u001B[39m]) \u001B[38;5;28;01mfrom\u001B[39;00m \u001B[38;5;21;01me\u001B[39;00m\n\u001B[0;32m   2356\u001B[0m \u001B[38;5;28;01melse\u001B[39;00m:\n\u001B[0;32m   2357\u001B[0m     \u001B[38;5;28;01massert\u001B[39;00m exc_info[\u001B[38;5;241m1\u001B[39m] \u001B[38;5;129;01mis\u001B[39;00m \u001B[38;5;129;01mnot\u001B[39;00m \u001B[38;5;28;01mNone\u001B[39;00m\n",
      "File \u001B[1;32mC:\\ProgramData\\miniforge3\\envs\\gabelsci\\Lib\\site-packages\\sqlalchemy\\engine\\base.py:1967\u001B[0m, in \u001B[0;36mConnection._exec_single_context\u001B[1;34m(self, dialect, context, statement, parameters)\u001B[0m\n\u001B[0;32m   1965\u001B[0m                 \u001B[38;5;28;01mbreak\u001B[39;00m\n\u001B[0;32m   1966\u001B[0m     \u001B[38;5;28;01mif\u001B[39;00m \u001B[38;5;129;01mnot\u001B[39;00m evt_handled:\n\u001B[1;32m-> 1967\u001B[0m         \u001B[38;5;28;43mself\u001B[39;49m\u001B[38;5;241;43m.\u001B[39;49m\u001B[43mdialect\u001B[49m\u001B[38;5;241;43m.\u001B[39;49m\u001B[43mdo_execute\u001B[49m\u001B[43m(\u001B[49m\n\u001B[0;32m   1968\u001B[0m \u001B[43m            \u001B[49m\u001B[43mcursor\u001B[49m\u001B[43m,\u001B[49m\u001B[43m \u001B[49m\u001B[43mstr_statement\u001B[49m\u001B[43m,\u001B[49m\u001B[43m \u001B[49m\u001B[43meffective_parameters\u001B[49m\u001B[43m,\u001B[49m\u001B[43m \u001B[49m\u001B[43mcontext\u001B[49m\n\u001B[0;32m   1969\u001B[0m \u001B[43m        \u001B[49m\u001B[43m)\u001B[49m\n\u001B[0;32m   1971\u001B[0m \u001B[38;5;28;01mif\u001B[39;00m \u001B[38;5;28mself\u001B[39m\u001B[38;5;241m.\u001B[39m_has_events \u001B[38;5;129;01mor\u001B[39;00m \u001B[38;5;28mself\u001B[39m\u001B[38;5;241m.\u001B[39mengine\u001B[38;5;241m.\u001B[39m_has_events:\n\u001B[0;32m   1972\u001B[0m     \u001B[38;5;28mself\u001B[39m\u001B[38;5;241m.\u001B[39mdispatch\u001B[38;5;241m.\u001B[39mafter_cursor_execute(\n\u001B[0;32m   1973\u001B[0m         \u001B[38;5;28mself\u001B[39m,\n\u001B[0;32m   1974\u001B[0m         cursor,\n\u001B[1;32m   (...)\u001B[0m\n\u001B[0;32m   1978\u001B[0m         context\u001B[38;5;241m.\u001B[39mexecutemany,\n\u001B[0;32m   1979\u001B[0m     )\n",
      "File \u001B[1;32mC:\\ProgramData\\miniforge3\\envs\\gabelsci\\Lib\\site-packages\\sqlalchemy\\engine\\default.py:941\u001B[0m, in \u001B[0;36mDefaultDialect.do_execute\u001B[1;34m(self, cursor, statement, parameters, context)\u001B[0m\n\u001B[0;32m    940\u001B[0m \u001B[38;5;28;01mdef\u001B[39;00m \u001B[38;5;21mdo_execute\u001B[39m(\u001B[38;5;28mself\u001B[39m, cursor, statement, parameters, context\u001B[38;5;241m=\u001B[39m\u001B[38;5;28;01mNone\u001B[39;00m):\n\u001B[1;32m--> 941\u001B[0m     \u001B[43mcursor\u001B[49m\u001B[38;5;241;43m.\u001B[39;49m\u001B[43mexecute\u001B[49m\u001B[43m(\u001B[49m\u001B[43mstatement\u001B[49m\u001B[43m,\u001B[49m\u001B[43m \u001B[49m\u001B[43mparameters\u001B[49m\u001B[43m)\u001B[49m\n",
      "\u001B[1;31mProgrammingError\u001B[0m: (psycopg2.errors.UndefinedTable) relation \"s_fld_haz_ar_19\" does not exist\nLINE 1: SELECT * FROM S_FLD_HAZ_AR_19 limit 5\n                      ^\n\n[SQL: SELECT * FROM S_FLD_HAZ_AR_19 limit 5]\n(Background on this error at: https://sqlalche.me/e/20/f405)"
     ]
    }
   ],
   "execution_count": 7
  },
  {
   "metadata": {
    "ExecuteTime": {
     "end_time": "2024-11-12T17:57:41.980700Z",
     "start_time": "2024-11-12T17:57:41.944467Z"
    }
   },
   "cell_type": "code",
   "source": [
    "engine = get_postgis_engine(\"nfhl_tr32\")\n",
    "sql_query = 'SELECT * FROM \"S_FLD_HAZ_AR_19\" limit 5'\n",
    "gdf = gpd.GeoDataFrame.from_postgis(sql_query, engine, geom_col='geom')"
   ],
   "id": "d99be71bd1f21b34",
   "outputs": [],
   "execution_count": 8
  },
  {
   "metadata": {
    "ExecuteTime": {
     "end_time": "2024-11-12T17:57:48.862230Z",
     "start_time": "2024-11-12T17:57:48.858485Z"
    }
   },
   "cell_type": "code",
   "source": "print(gdf)",
   "id": "fe08644ffb5ebcb0",
   "outputs": [
    {
     "name": "stdout",
     "output_type": "stream",
     "text": [
      "Empty GeoDataFrame\n",
      "Columns: [DFIRM_ID, VERSION_ID, FLD_AR_ID, STUDY_TYP, FLD_ZONE, ZONE_SUBTY, SFHA_TF, STATIC_BFE, V_DATUM, DEPTH, LEN_UNIT, VELOCITY, VEL_UNIT, AR_REVERT, AR_SUBTRV, BFE_REVERT, DEP_REVERT, DUAL_ZONE, SOURCE_CIT, geom]\n",
      "Index: []\n"
     ]
    }
   ],
   "execution_count": 9
  },
  {
   "metadata": {
    "ExecuteTime": {
     "end_time": "2024-11-12T17:58:24.249011Z",
     "start_time": "2024-11-12T17:58:24.215305Z"
    }
   },
   "cell_type": "code",
   "source": [
    "engine = get_postgis_engine(\"nfhl_tr32\")\n",
    "sql_query = 'SELECT * FROM \"S_FLD_HAZ_AR_test\" limit 5'\n",
    "gdf = gpd.GeoDataFrame.from_postgis(sql_query, engine, geom_col='geom')"
   ],
   "id": "4b463209e09b26a4",
   "outputs": [],
   "execution_count": 10
  },
  {
   "metadata": {
    "ExecuteTime": {
     "end_time": "2024-11-12T17:58:29.234497Z",
     "start_time": "2024-11-12T17:58:29.230495Z"
    }
   },
   "cell_type": "code",
   "source": "print(gdf)\n",
   "id": "a2a1a2d1a3db79bd",
   "outputs": [
    {
     "name": "stdout",
     "output_type": "stream",
     "text": [
      "Empty GeoDataFrame\n",
      "Columns: [DFIRM_ID, VERSION_ID, FLD_AR_ID, STUDY_TYP, FLD_ZONE, ZONE_SUBTY, SFHA_TF, STATIC_BFE, V_DATUM, DEPTH, LEN_UNIT, VELOCITY, VEL_UNIT, AR_REVERT, AR_SUBTRV, BFE_REVERT, DEP_REVERT, DUAL_ZONE, SOURCE_CIT, geom]\n",
      "Index: []\n"
     ]
    }
   ],
   "execution_count": 11
  },
  {
   "metadata": {
    "ExecuteTime": {
     "end_time": "2024-11-12T17:58:57.508450Z",
     "start_time": "2024-11-12T17:58:57.466854Z"
    }
   },
   "cell_type": "code",
   "source": [
    "engine = get_postgis_engine(\"nfhl_tr32\")\n",
    "sql_query = 'SELECT * FROM \"S_BFE\" limit 5'\n",
    "gdf = gpd.GeoDataFrame.from_postgis(sql_query, engine, geom_col='geometry')"
   ],
   "id": "ab4992b98699f063",
   "outputs": [],
   "execution_count": 12
  },
  {
   "metadata": {
    "ExecuteTime": {
     "end_time": "2024-11-12T17:59:00.129481Z",
     "start_time": "2024-11-12T17:59:00.123480Z"
    }
   },
   "cell_type": "code",
   "source": "print(gdf)\n",
   "id": "3d848100fba5e9e3",
   "outputs": [
    {
     "name": "stdout",
     "output_type": "stream",
     "text": [
      "  DFIRM_ID VERSION_ID    ELEV LEN_UNIT V_DATUM SOURCE_CIT BFE_LN_ID  \\\n",
      "0   190854    2.8.5.6  1078.0     Feet  NAVD88    STUDY26    000100   \n",
      "1   190854    2.8.5.6  1078.0     Feet  NAVD88    STUDY26    000101   \n",
      "2   190854    2.8.5.6  1079.0     Feet  NAVD88    STUDY26    000102   \n",
      "3   190854    2.8.5.6  1079.0     Feet  NAVD88    STUDY26    000103   \n",
      "4   190854    2.8.5.6  1080.0     Feet  NAVD88    STUDY26    000104   \n",
      "\n",
      "   Shape_Leng                                           geometry  \n",
      "0    0.000212  LINESTRING (4143358.181 3650213.769, 4143326.9...  \n",
      "1    0.000112  LINESTRING (4141544.04 3652220.748, 4141513.78...  \n",
      "2    0.000309  LINESTRING (4143434.366 3650448.98, 4143416.36...  \n",
      "3    0.000759  LINESTRING (4141570.364 3652439.136, 4141569.2...  \n",
      "4    0.000332  LINESTRING (4143517.485 3650763.362, 4143517.4...  \n"
     ]
    }
   ],
   "execution_count": 13
  },
  {
   "metadata": {
    "ExecuteTime": {
     "end_time": "2024-11-12T18:34:09.731957Z",
     "start_time": "2024-11-12T18:34:09.668030Z"
    }
   },
   "cell_type": "code",
   "source": [
    "engine = get_postgis_engine(\"nfhl_tr32\")\n",
    "sql_query = 'SELECT * FROM \"S_FLD_HAZ_AR_test\" limit 5'\n",
    "gdf = gpd.GeoDataFrame.from_postgis(sql_query, engine, geom_col='geometry')"
   ],
   "id": "41939853c80eb25d",
   "outputs": [
    {
     "ename": "ValueError",
     "evalue": "Query missing geometry column 'geometry'",
     "output_type": "error",
     "traceback": [
      "\u001B[1;31m---------------------------------------------------------------------------\u001B[0m",
      "\u001B[1;31mValueError\u001B[0m                                Traceback (most recent call last)",
      "Cell \u001B[1;32mIn[14], line 3\u001B[0m\n\u001B[0;32m      1\u001B[0m engine \u001B[38;5;241m=\u001B[39m get_postgis_engine(\u001B[38;5;124m\"\u001B[39m\u001B[38;5;124mnfhl_tr32\u001B[39m\u001B[38;5;124m\"\u001B[39m)\n\u001B[0;32m      2\u001B[0m sql_query \u001B[38;5;241m=\u001B[39m \u001B[38;5;124m'\u001B[39m\u001B[38;5;124mSELECT * FROM \u001B[39m\u001B[38;5;124m\"\u001B[39m\u001B[38;5;124mS_FLD_HAZ_AR_test\u001B[39m\u001B[38;5;124m\"\u001B[39m\u001B[38;5;124m limit 5\u001B[39m\u001B[38;5;124m'\u001B[39m\n\u001B[1;32m----> 3\u001B[0m gdf \u001B[38;5;241m=\u001B[39m \u001B[43mgpd\u001B[49m\u001B[38;5;241;43m.\u001B[39;49m\u001B[43mGeoDataFrame\u001B[49m\u001B[38;5;241;43m.\u001B[39;49m\u001B[43mfrom_postgis\u001B[49m\u001B[43m(\u001B[49m\u001B[43msql_query\u001B[49m\u001B[43m,\u001B[49m\u001B[43m \u001B[49m\u001B[43mengine\u001B[49m\u001B[43m,\u001B[49m\u001B[43m \u001B[49m\u001B[43mgeom_col\u001B[49m\u001B[38;5;241;43m=\u001B[39;49m\u001B[38;5;124;43m'\u001B[39;49m\u001B[38;5;124;43mgeometry\u001B[39;49m\u001B[38;5;124;43m'\u001B[39;49m\u001B[43m)\u001B[49m\n",
      "File \u001B[1;32mC:\\ProgramData\\miniforge3\\envs\\gabelsci\\Lib\\site-packages\\geopandas\\geodataframe.py:817\u001B[0m, in \u001B[0;36mGeoDataFrame.from_postgis\u001B[1;34m(cls, sql, con, geom_col, crs, index_col, coerce_float, parse_dates, params, chunksize)\u001B[0m\n\u001B[0;32m    747\u001B[0m \u001B[38;5;129m@classmethod\u001B[39m\n\u001B[0;32m    748\u001B[0m \u001B[38;5;28;01mdef\u001B[39;00m \u001B[38;5;21mfrom_postgis\u001B[39m(\n\u001B[0;32m    749\u001B[0m     \u001B[38;5;28mcls\u001B[39m,\n\u001B[1;32m   (...)\u001B[0m\n\u001B[0;32m    758\u001B[0m     chunksize\u001B[38;5;241m=\u001B[39m\u001B[38;5;28;01mNone\u001B[39;00m,\n\u001B[0;32m    759\u001B[0m ):\n\u001B[0;32m    760\u001B[0m \u001B[38;5;250m    \u001B[39m\u001B[38;5;124;03m\"\"\"\u001B[39;00m\n\u001B[0;32m    761\u001B[0m \u001B[38;5;124;03m    Alternate constructor to create a ``GeoDataFrame`` from a sql query\u001B[39;00m\n\u001B[0;32m    762\u001B[0m \u001B[38;5;124;03m    containing a geometry column in WKB representation.\u001B[39;00m\n\u001B[1;32m   (...)\u001B[0m\n\u001B[0;32m    814\u001B[0m \u001B[38;5;124;03m    geopandas.read_postgis : read PostGIS database to GeoDataFrame\u001B[39;00m\n\u001B[0;32m    815\u001B[0m \u001B[38;5;124;03m    \"\"\"\u001B[39;00m\n\u001B[1;32m--> 817\u001B[0m     df \u001B[38;5;241m=\u001B[39m \u001B[43mgeopandas\u001B[49m\u001B[38;5;241;43m.\u001B[39;49m\u001B[43mio\u001B[49m\u001B[38;5;241;43m.\u001B[39;49m\u001B[43msql\u001B[49m\u001B[38;5;241;43m.\u001B[39;49m\u001B[43m_read_postgis\u001B[49m\u001B[43m(\u001B[49m\n\u001B[0;32m    818\u001B[0m \u001B[43m        \u001B[49m\u001B[43msql\u001B[49m\u001B[43m,\u001B[49m\n\u001B[0;32m    819\u001B[0m \u001B[43m        \u001B[49m\u001B[43mcon\u001B[49m\u001B[43m,\u001B[49m\n\u001B[0;32m    820\u001B[0m \u001B[43m        \u001B[49m\u001B[43mgeom_col\u001B[49m\u001B[38;5;241;43m=\u001B[39;49m\u001B[43mgeom_col\u001B[49m\u001B[43m,\u001B[49m\n\u001B[0;32m    821\u001B[0m \u001B[43m        \u001B[49m\u001B[43mcrs\u001B[49m\u001B[38;5;241;43m=\u001B[39;49m\u001B[43mcrs\u001B[49m\u001B[43m,\u001B[49m\n\u001B[0;32m    822\u001B[0m \u001B[43m        \u001B[49m\u001B[43mindex_col\u001B[49m\u001B[38;5;241;43m=\u001B[39;49m\u001B[43mindex_col\u001B[49m\u001B[43m,\u001B[49m\n\u001B[0;32m    823\u001B[0m \u001B[43m        \u001B[49m\u001B[43mcoerce_float\u001B[49m\u001B[38;5;241;43m=\u001B[39;49m\u001B[43mcoerce_float\u001B[49m\u001B[43m,\u001B[49m\n\u001B[0;32m    824\u001B[0m \u001B[43m        \u001B[49m\u001B[43mparse_dates\u001B[49m\u001B[38;5;241;43m=\u001B[39;49m\u001B[43mparse_dates\u001B[49m\u001B[43m,\u001B[49m\n\u001B[0;32m    825\u001B[0m \u001B[43m        \u001B[49m\u001B[43mparams\u001B[49m\u001B[38;5;241;43m=\u001B[39;49m\u001B[43mparams\u001B[49m\u001B[43m,\u001B[49m\n\u001B[0;32m    826\u001B[0m \u001B[43m        \u001B[49m\u001B[43mchunksize\u001B[49m\u001B[38;5;241;43m=\u001B[39;49m\u001B[43mchunksize\u001B[49m\u001B[43m,\u001B[49m\n\u001B[0;32m    827\u001B[0m \u001B[43m    \u001B[49m\u001B[43m)\u001B[49m\n\u001B[0;32m    829\u001B[0m     \u001B[38;5;28;01mreturn\u001B[39;00m df\n",
      "File \u001B[1;32mC:\\ProgramData\\miniforge3\\envs\\gabelsci\\Lib\\site-packages\\geopandas\\io\\sql.py:194\u001B[0m, in \u001B[0;36m_read_postgis\u001B[1;34m(sql, con, geom_col, crs, index_col, coerce_float, parse_dates, params, chunksize)\u001B[0m\n\u001B[0;32m    183\u001B[0m \u001B[38;5;28;01mif\u001B[39;00m chunksize \u001B[38;5;129;01mis\u001B[39;00m \u001B[38;5;28;01mNone\u001B[39;00m:\n\u001B[0;32m    184\u001B[0m     \u001B[38;5;66;03m# read all in one chunk and return a single GeoDataFrame\u001B[39;00m\n\u001B[0;32m    185\u001B[0m     df \u001B[38;5;241m=\u001B[39m pd\u001B[38;5;241m.\u001B[39mread_sql(\n\u001B[0;32m    186\u001B[0m         sql,\n\u001B[0;32m    187\u001B[0m         con,\n\u001B[1;32m   (...)\u001B[0m\n\u001B[0;32m    192\u001B[0m         chunksize\u001B[38;5;241m=\u001B[39mchunksize,\n\u001B[0;32m    193\u001B[0m     )\n\u001B[1;32m--> 194\u001B[0m     \u001B[38;5;28;01mreturn\u001B[39;00m \u001B[43m_df_to_geodf\u001B[49m\u001B[43m(\u001B[49m\u001B[43mdf\u001B[49m\u001B[43m,\u001B[49m\u001B[43m \u001B[49m\u001B[43mgeom_col\u001B[49m\u001B[38;5;241;43m=\u001B[39;49m\u001B[43mgeom_col\u001B[49m\u001B[43m,\u001B[49m\u001B[43m \u001B[49m\u001B[43mcrs\u001B[49m\u001B[38;5;241;43m=\u001B[39;49m\u001B[43mcrs\u001B[49m\u001B[43m,\u001B[49m\u001B[43m \u001B[49m\u001B[43mcon\u001B[49m\u001B[38;5;241;43m=\u001B[39;49m\u001B[43mcon\u001B[49m\u001B[43m)\u001B[49m\n\u001B[0;32m    196\u001B[0m \u001B[38;5;28;01melse\u001B[39;00m:\n\u001B[0;32m    197\u001B[0m     \u001B[38;5;66;03m# read data in chunks and return a generator\u001B[39;00m\n\u001B[0;32m    198\u001B[0m     df_generator \u001B[38;5;241m=\u001B[39m pd\u001B[38;5;241m.\u001B[39mread_sql(\n\u001B[0;32m    199\u001B[0m         sql,\n\u001B[0;32m    200\u001B[0m         con,\n\u001B[1;32m   (...)\u001B[0m\n\u001B[0;32m    205\u001B[0m         chunksize\u001B[38;5;241m=\u001B[39mchunksize,\n\u001B[0;32m    206\u001B[0m     )\n",
      "File \u001B[1;32mC:\\ProgramData\\miniforge3\\envs\\gabelsci\\Lib\\site-packages\\geopandas\\io\\sql.py:70\u001B[0m, in \u001B[0;36m_df_to_geodf\u001B[1;34m(df, geom_col, crs, con)\u001B[0m\n\u001B[0;32m     46\u001B[0m \u001B[38;5;250m\u001B[39m\u001B[38;5;124;03m\"\"\"\u001B[39;00m\n\u001B[0;32m     47\u001B[0m \u001B[38;5;124;03mTransforms a pandas DataFrame into a GeoDataFrame.\u001B[39;00m\n\u001B[0;32m     48\u001B[0m \u001B[38;5;124;03mThe column 'geom_col' must be a geometry column in WKB representation.\u001B[39;00m\n\u001B[1;32m   (...)\u001B[0m\n\u001B[0;32m     66\u001B[0m \u001B[38;5;124;03mGeoDataFrame\u001B[39;00m\n\u001B[0;32m     67\u001B[0m \u001B[38;5;124;03m\"\"\"\u001B[39;00m\n\u001B[0;32m     69\u001B[0m \u001B[38;5;28;01mif\u001B[39;00m geom_col \u001B[38;5;129;01mnot\u001B[39;00m \u001B[38;5;129;01min\u001B[39;00m df:\n\u001B[1;32m---> 70\u001B[0m     \u001B[38;5;28;01mraise\u001B[39;00m \u001B[38;5;167;01mValueError\u001B[39;00m(\u001B[38;5;124m\"\u001B[39m\u001B[38;5;124mQuery missing geometry column \u001B[39m\u001B[38;5;124m'\u001B[39m\u001B[38;5;132;01m{}\u001B[39;00m\u001B[38;5;124m'\u001B[39m\u001B[38;5;124m\"\u001B[39m\u001B[38;5;241m.\u001B[39mformat(geom_col))\n\u001B[0;32m     72\u001B[0m \u001B[38;5;28;01mif\u001B[39;00m df\u001B[38;5;241m.\u001B[39mcolumns\u001B[38;5;241m.\u001B[39mto_list()\u001B[38;5;241m.\u001B[39mcount(geom_col) \u001B[38;5;241m>\u001B[39m \u001B[38;5;241m1\u001B[39m:\n\u001B[0;32m     73\u001B[0m     \u001B[38;5;28;01mraise\u001B[39;00m \u001B[38;5;167;01mValueError\u001B[39;00m(\n\u001B[0;32m     74\u001B[0m         \u001B[38;5;124mf\u001B[39m\u001B[38;5;124m\"\u001B[39m\u001B[38;5;124mDuplicate geometry column \u001B[39m\u001B[38;5;124m'\u001B[39m\u001B[38;5;132;01m{\u001B[39;00mgeom_col\u001B[38;5;132;01m}\u001B[39;00m\u001B[38;5;124m'\u001B[39m\u001B[38;5;124m detected in SQL query output. Only\u001B[39m\u001B[38;5;124m\"\u001B[39m\n\u001B[0;32m     75\u001B[0m         \u001B[38;5;124m\"\u001B[39m\u001B[38;5;124mone geometry column is allowed.\u001B[39m\u001B[38;5;124m\"\u001B[39m\n\u001B[0;32m     76\u001B[0m     )\n",
      "\u001B[1;31mValueError\u001B[0m: Query missing geometry column 'geometry'"
     ]
    }
   ],
   "execution_count": 14
  },
  {
   "metadata": {
    "ExecuteTime": {
     "end_time": "2024-11-12T18:34:21.812027Z",
     "start_time": "2024-11-12T18:34:21.670897Z"
    }
   },
   "cell_type": "code",
   "source": [
    "engine = get_postgis_engine(\"nfhl_tr32\")\n",
    "sql_query = 'SELECT * FROM \"S_FLD_HAZ_AR_test\" limit 5'\n",
    "gdf = gpd.GeoDataFrame.from_postgis(sql_query, engine, geom_col='geom')"
   ],
   "id": "3696c715767d235f",
   "outputs": [],
   "execution_count": 15
  },
  {
   "metadata": {
    "ExecuteTime": {
     "end_time": "2024-11-12T18:34:27.297080Z",
     "start_time": "2024-11-12T18:34:27.293372Z"
    }
   },
   "cell_type": "code",
   "source": [
    "print(gdf)\n",
    "\n"
   ],
   "id": "8f6ba85d610e008b",
   "outputs": [
    {
     "name": "stdout",
     "output_type": "stream",
     "text": [
      "Empty GeoDataFrame\n",
      "Columns: [DFIRM_ID, VERSION_ID, FLD_AR_ID, STUDY_TYP, FLD_ZONE, ZONE_SUBTY, SFHA_TF, STATIC_BFE, V_DATUM, DEPTH, LEN_UNIT, VELOCITY, VEL_UNIT, AR_REVERT, AR_SUBTRV, BFE_REVERT, DEP_REVERT, DUAL_ZONE, SOURCE_CIT, geom]\n",
      "Index: []\n"
     ]
    }
   ],
   "execution_count": 16
  },
  {
   "metadata": {
    "ExecuteTime": {
     "end_time": "2024-11-12T18:38:42.168735Z",
     "start_time": "2024-11-12T18:38:42.155796Z"
    }
   },
   "cell_type": "code",
   "source": [
    "\n",
    "engine = get_postgis_engine(\"nfhl_tr32\")\n",
    "table_name = \"S_FLD_HAZ_AR_19\"\n",
    "count = get_p_count(engine, table_name)\n",
    "print(count)"
   ],
   "id": "ac325d1fab21e5c1",
   "outputs": [
    {
     "ename": "ImportError",
     "evalue": "cannot import name 'get_p_count' from 'src.d00_utils.postgis_helpers' (E:\\automation\\toolboxes\\gabelscience\\src\\d00_utils\\postgis_helpers.py)",
     "output_type": "error",
     "traceback": [
      "\u001B[1;31m---------------------------------------------------------------------------\u001B[0m",
      "\u001B[1;31mImportError\u001B[0m                               Traceback (most recent call last)",
      "Cell \u001B[1;32mIn[18], line 1\u001B[0m\n\u001B[1;32m----> 1\u001B[0m \u001B[38;5;28;01mfrom\u001B[39;00m \u001B[38;5;21;01msrc\u001B[39;00m\u001B[38;5;21;01m.\u001B[39;00m\u001B[38;5;21;01md00_utils\u001B[39;00m\u001B[38;5;21;01m.\u001B[39;00m\u001B[38;5;21;01mpostgis_helpers\u001B[39;00m \u001B[38;5;28;01mimport\u001B[39;00m get_p_count\n\u001B[0;32m      2\u001B[0m engine \u001B[38;5;241m=\u001B[39m get_postgis_engine(\u001B[38;5;124m\"\u001B[39m\u001B[38;5;124mnfhl_tr32\u001B[39m\u001B[38;5;124m\"\u001B[39m)\n\u001B[0;32m      3\u001B[0m table_name \u001B[38;5;241m=\u001B[39m \u001B[38;5;124m\"\u001B[39m\u001B[38;5;124mS_FLD_HAZ_AR_19\u001B[39m\u001B[38;5;124m\"\u001B[39m\n",
      "\u001B[1;31mImportError\u001B[0m: cannot import name 'get_p_count' from 'src.d00_utils.postgis_helpers' (E:\\automation\\toolboxes\\gabelscience\\src\\d00_utils\\postgis_helpers.py)"
     ]
    }
   ],
   "execution_count": 18
  },
  {
   "metadata": {
    "ExecuteTime": {
     "end_time": "2024-11-12T18:40:22.258156Z",
     "start_time": "2024-11-12T18:40:22.247169Z"
    }
   },
   "cell_type": "code",
   "source": "from src.d00_utils.postgis_helpers import get_p_count",
   "id": "ae4ae02a5360809",
   "outputs": [
    {
     "ename": "ImportError",
     "evalue": "cannot import name 'get_p_count' from 'src.d00_utils.postgis_helpers' (E:\\automation\\toolboxes\\gabelscience\\src\\d00_utils\\postgis_helpers.py)",
     "output_type": "error",
     "traceback": [
      "\u001B[1;31m---------------------------------------------------------------------------\u001B[0m",
      "\u001B[1;31mImportError\u001B[0m                               Traceback (most recent call last)",
      "Cell \u001B[1;32mIn[19], line 1\u001B[0m\n\u001B[1;32m----> 1\u001B[0m \u001B[38;5;28;01mfrom\u001B[39;00m \u001B[38;5;21;01msrc\u001B[39;00m\u001B[38;5;21;01m.\u001B[39;00m\u001B[38;5;21;01md00_utils\u001B[39;00m\u001B[38;5;21;01m.\u001B[39;00m\u001B[38;5;21;01mpostgis_helpers\u001B[39;00m \u001B[38;5;28;01mimport\u001B[39;00m get_p_count\n",
      "\u001B[1;31mImportError\u001B[0m: cannot import name 'get_p_count' from 'src.d00_utils.postgis_helpers' (E:\\automation\\toolboxes\\gabelscience\\src\\d00_utils\\postgis_helpers.py)"
     ]
    }
   ],
   "execution_count": 19
  },
  {
   "metadata": {
    "ExecuteTime": {
     "end_time": "2024-11-12T18:40:38.432679Z",
     "start_time": "2024-11-12T18:40:38.429440Z"
    }
   },
   "cell_type": "code",
   "source": "import src.d00_utils.postgis_helpers",
   "id": "8d9c2d82ae85795c",
   "outputs": [],
   "execution_count": 20
  },
  {
   "metadata": {
    "ExecuteTime": {
     "end_time": "2024-11-12T18:44:24.110555Z",
     "start_time": "2024-11-12T18:44:24.107027Z"
    }
   },
   "cell_type": "code",
   "source": "from sqlalchemy import text",
   "id": "7cfd9422807bea09",
   "outputs": [],
   "execution_count": 26
  },
  {
   "metadata": {},
   "cell_type": "markdown",
   "source": "",
   "id": "c1f7dfa75fe7d53d"
  },
  {
   "metadata": {
    "ExecuteTime": {
     "end_time": "2024-11-12T18:44:48.758792Z",
     "start_time": "2024-11-12T18:44:48.747731Z"
    }
   },
   "cell_type": "code",
   "source": "sql_q = text(f'SELECT COUNT(*) FROM \"{table_name}\";')",
   "id": "b31e9639bd6e6a33",
   "outputs": [
    {
     "ename": "NameError",
     "evalue": "name 'table_name' is not defined",
     "output_type": "error",
     "traceback": [
      "\u001B[1;31m---------------------------------------------------------------------------\u001B[0m",
      "\u001B[1;31mNameError\u001B[0m                                 Traceback (most recent call last)",
      "Cell \u001B[1;32mIn[27], line 1\u001B[0m\n\u001B[1;32m----> 1\u001B[0m sql_q \u001B[38;5;241m=\u001B[39m text(\u001B[38;5;124mf\u001B[39m\u001B[38;5;124m'\u001B[39m\u001B[38;5;124mSELECT COUNT(*) FROM \u001B[39m\u001B[38;5;124m\"\u001B[39m\u001B[38;5;132;01m{\u001B[39;00m\u001B[43mtable_name\u001B[49m\u001B[38;5;132;01m}\u001B[39;00m\u001B[38;5;124m\"\u001B[39m\u001B[38;5;124m;\u001B[39m\u001B[38;5;124m'\u001B[39m)\n",
      "\u001B[1;31mNameError\u001B[0m: name 'table_name' is not defined"
     ]
    }
   ],
   "execution_count": 27
  },
  {
   "metadata": {
    "ExecuteTime": {
     "end_time": "2024-11-12T18:44:57.856828Z",
     "start_time": "2024-11-12T18:44:57.853420Z"
    }
   },
   "cell_type": "code",
   "source": "table_name = \"S_FLD_HAZ_AR_19\"",
   "id": "e547f5bc5c25e194",
   "outputs": [],
   "execution_count": 28
  },
  {
   "metadata": {
    "ExecuteTime": {
     "end_time": "2024-11-12T18:45:16.806178Z",
     "start_time": "2024-11-12T18:45:16.801178Z"
    }
   },
   "cell_type": "code",
   "source": [
    "sql_q = text(f'SELECT COUNT(*) FROM \"{table_name}\";')\n",
    "with engine.connect() as connection:\n",
    "    result = connection.execute(sql_q)\n",
    "    count = result.fetchone()[0]\n",
    "    print(count)"
   ],
   "id": "711a8b999d873ecb",
   "outputs": [
    {
     "name": "stdout",
     "output_type": "stream",
     "text": [
      "0\n"
     ]
    }
   ],
   "execution_count": 29
  },
  {
   "metadata": {
    "ExecuteTime": {
     "end_time": "2024-11-12T18:46:04.208085Z",
     "start_time": "2024-11-12T18:46:04.203800Z"
    }
   },
   "cell_type": "code",
   "source": [
    "sql_q = text(f'SELECT COUNT(*) FROM \"{table_name}\";')\n",
    "with engine.connect() as connection:\n",
    "    result = connection.execute(sql_q).scalar()\n",
    "    \n",
    "print(result)"
   ],
   "id": "77260e1a6230922",
   "outputs": [
    {
     "name": "stdout",
     "output_type": "stream",
     "text": [
      "0\n"
     ]
    }
   ],
   "execution_count": 30
  },
  {
   "metadata": {
    "ExecuteTime": {
     "end_time": "2024-11-12T18:46:16.886631Z",
     "start_time": "2024-11-12T18:46:16.883801Z"
    }
   },
   "cell_type": "code",
   "source": "table_name = \"S_FLD_HAZ_AR_test\"",
   "id": "136d7e77525fdd53",
   "outputs": [],
   "execution_count": 31
  },
  {
   "metadata": {
    "ExecuteTime": {
     "end_time": "2024-11-12T18:46:20.467347Z",
     "start_time": "2024-11-12T18:46:20.464631Z"
    }
   },
   "cell_type": "code",
   "source": "sql_q = text(f'SELECT COUNT(*) FROM \"{table_name}\";')",
   "id": "e4b2c9e6ae19d288",
   "outputs": [],
   "execution_count": 32
  },
  {
   "metadata": {
    "ExecuteTime": {
     "end_time": "2024-11-12T18:46:31.613558Z",
     "start_time": "2024-11-12T18:46:31.609842Z"
    }
   },
   "cell_type": "code",
   "source": [
    "with engine.connect() as connection:\n",
    "    result = connection.execute(sql_q).scalar()\n",
    "    \n",
    "print(result)"
   ],
   "id": "c49f5adf0f12d7db",
   "outputs": [
    {
     "name": "stdout",
     "output_type": "stream",
     "text": [
      "0\n"
     ]
    }
   ],
   "execution_count": 33
  },
  {
   "metadata": {
    "ExecuteTime": {
     "end_time": "2024-11-12T18:46:51.542459Z",
     "start_time": "2024-11-12T18:46:51.537444Z"
    }
   },
   "cell_type": "code",
   "source": [
    "table_name = \"S_BFE\"\n",
    "with engine.connect() as connection:\n",
    "    result = connection.execute(sql_q).scalar()\n",
    "    \n",
    "print(result)"
   ],
   "id": "24da8f481488a6b2",
   "outputs": [
    {
     "name": "stdout",
     "output_type": "stream",
     "text": [
      "0\n"
     ]
    }
   ],
   "execution_count": 34
  },
  {
   "metadata": {
    "ExecuteTime": {
     "end_time": "2024-11-12T18:47:18.988969Z",
     "start_time": "2024-11-12T18:47:18.985476Z"
    }
   },
   "cell_type": "code",
   "source": [
    "table_name = \"S_BFE\"\n",
    "with engine.connect() as connection:\n",
    "    result = connection.execute(sql_q)"
   ],
   "id": "d6f004399f2da6a8",
   "outputs": [],
   "execution_count": 35
  },
  {
   "metadata": {
    "ExecuteTime": {
     "end_time": "2024-11-12T18:47:33.764484Z",
     "start_time": "2024-11-12T18:47:33.761757Z"
    }
   },
   "cell_type": "code",
   "source": "sql_q = text(f'SELECT COUNT(*) FROM \"{table_name}\";')",
   "id": "c432084c63e20ae4",
   "outputs": [],
   "execution_count": 36
  },
  {
   "metadata": {
    "ExecuteTime": {
     "end_time": "2024-11-12T18:47:40.440221Z",
     "start_time": "2024-11-12T18:47:40.409037Z"
    }
   },
   "cell_type": "code",
   "source": [
    "with engine.connect() as connection:\n",
    "    result = connection.execute(sql_q)"
   ],
   "id": "bd6fc4e3081e1d4e",
   "outputs": [],
   "execution_count": 37
  },
  {
   "metadata": {
    "ExecuteTime": {
     "end_time": "2024-11-12T18:47:49.585087Z",
     "start_time": "2024-11-12T18:47:49.582075Z"
    }
   },
   "cell_type": "code",
   "source": "print(result)",
   "id": "dcd059d31d9273a1",
   "outputs": [
    {
     "name": "stdout",
     "output_type": "stream",
     "text": [
      "<sqlalchemy.engine.cursor.CursorResult object at 0x000002A6A6F902F0>\n"
     ]
    }
   ],
   "execution_count": 38
  },
  {
   "metadata": {
    "ExecuteTime": {
     "end_time": "2024-11-12T18:48:06.012944Z",
     "start_time": "2024-11-12T18:48:06.009422Z"
    }
   },
   "cell_type": "code",
   "source": "count = result.scalar()",
   "id": "c062ef52ea01537e",
   "outputs": [],
   "execution_count": 39
  },
  {
   "metadata": {
    "ExecuteTime": {
     "end_time": "2024-11-12T18:48:08.875470Z",
     "start_time": "2024-11-12T18:48:08.871987Z"
    }
   },
   "cell_type": "code",
   "source": "print(count)",
   "id": "23edb5bd4670d378",
   "outputs": [
    {
     "name": "stdout",
     "output_type": "stream",
     "text": [
      "40882\n"
     ]
    }
   ],
   "execution_count": 40
  },
  {
   "metadata": {
    "ExecuteTime": {
     "end_time": "2024-11-12T18:48:32.183577Z",
     "start_time": "2024-11-12T18:48:32.180711Z"
    }
   },
   "cell_type": "code",
   "source": [
    "test_table = \"S_FLD_HAZ_AR_test\"\n",
    "sql_test = text(f'SELECT COUNT(*) FROM \"{test_table}\";')"
   ],
   "id": "912699686ec3193e",
   "outputs": [],
   "execution_count": 41
  },
  {
   "metadata": {
    "ExecuteTime": {
     "end_time": "2024-11-12T18:48:41.914369Z",
     "start_time": "2024-11-12T18:48:41.910862Z"
    }
   },
   "cell_type": "code",
   "source": [
    "with engine.connect() as connection:\n",
    "    result = connection.execute(sql_test)\n",
    "    count = result.scalar()\n",
    "    \n",
    "print(count)"
   ],
   "id": "7a5caef2da2614cc",
   "outputs": [
    {
     "name": "stdout",
     "output_type": "stream",
     "text": [
      "0\n"
     ]
    }
   ],
   "execution_count": 42
  },
  {
   "metadata": {},
   "cell_type": "code",
   "outputs": [],
   "execution_count": null,
   "source": "",
   "id": "1847116323db0c49"
  }
 ],
 "metadata": {
  "kernelspec": {
   "display_name": "Python 3",
   "language": "python",
   "name": "python3"
  },
  "language_info": {
   "codemirror_mode": {
    "name": "ipython",
    "version": 2
   },
   "file_extension": ".py",
   "mimetype": "text/x-python",
   "name": "python",
   "nbconvert_exporter": "python",
   "pygments_lexer": "ipython2",
   "version": "2.7.6"
  }
 },
 "nbformat": 4,
 "nbformat_minor": 5
}
